{
 "cells": [
  {
   "cell_type": "code",
   "execution_count": 1,
   "id": "c83a003d-2cb4-4d4d-bbef-b6058cbdc632",
   "metadata": {},
   "outputs": [
    {
     "name": "stdout",
     "output_type": "stream",
     "text": [
      "[1 1 1 1 0 0 0]\n"
     ]
    }
   ],
   "source": [
    "import numpy as np\n",
    "x = np.array([1,0,1,0,1,0,1])\n",
    "def move_zeroes_to_end(x):\n",
    "    store_1 = 0\n",
    "    count_0 = 0\n",
    "    n = len(x)\n",
    "    for i in range(n):\n",
    "        if x[i] != 0:\n",
    "            x[store_1], x[i] = x[i], x[store_1]\n",
    "            store_1 += 1\n",
    "        else:\n",
    "            count_0 += 1\n",
    "    return x\n",
    "print(move_zeroes_to_end(x))"
   ]
  },
  {
   "cell_type": "code",
   "execution_count": 4,
   "id": "d1bfd83c-4f40-4551-8d43-7720a5affbd1",
   "metadata": {},
   "outputs": [
    {
     "name": "stdout",
     "output_type": "stream",
     "text": [
      "[1, 1, 1, 1, 0, 0, 0]\n"
     ]
    }
   ],
   "source": [
    "import numpy as np\n",
    "x = np.array([1,0,1,0,1,0,1])\n",
    "def move_zeroes_to_end(x):\n",
    "  store_1 = 0\n",
    "  count_0 = 0\n",
    "  n = len(x)\n",
    "  for i in x:\n",
    "    if i == 1:\n",
    "      store_1 += i\n",
    "    else:\n",
    "      count_0 += 1\n",
    "  return ([1]*store_1)+([0]*count_0)\n",
    "print(move_zeroes_to_end(x))"
   ]
  },
  {
   "cell_type": "code",
   "execution_count": 5,
   "id": "bb646a4f-7efb-47ce-bf2a-047059692569",
   "metadata": {},
   "outputs": [
    {
     "name": "stdout",
     "output_type": "stream",
     "text": [
      "output: [1, 1, 1, 1, 1, 0, 0, 0]\n"
     ]
    }
   ],
   "source": [
    "import numpy as np\n",
    "x = np.array([0, 1, 0, 1, 0, 1, 1, 1])\n",
    "def move_zeroes_to_end(x):\n",
    "    store_1 = 0\n",
    "    count_0 = 0\n",
    "    i = len(x)-1\n",
    "    while i >= 0:\n",
    "        if x[i] == 1:\n",
    "            store_1 += 1\n",
    "        else:\n",
    "            count_0 += 1\n",
    "        i -= 1\n",
    "    result = [1] * store_1 + [0] * count_0\n",
    "    return result\n",
    "print(\"output:\", move_zeroes_to_end(x))"
   ]
  },
  {
   "cell_type": "code",
   "execution_count": null,
   "id": "6247ec9a-8aef-4b25-b22d-8906749d242d",
   "metadata": {},
   "outputs": [],
   "source": []
  }
 ],
 "metadata": {
  "kernelspec": {
   "display_name": "Python 3 (ipykernel)",
   "language": "python",
   "name": "python3"
  },
  "language_info": {
   "codemirror_mode": {
    "name": "ipython",
    "version": 3
   },
   "file_extension": ".py",
   "mimetype": "text/x-python",
   "name": "python",
   "nbconvert_exporter": "python",
   "pygments_lexer": "ipython3",
   "version": "3.12.7"
  }
 },
 "nbformat": 4,
 "nbformat_minor": 5
}
