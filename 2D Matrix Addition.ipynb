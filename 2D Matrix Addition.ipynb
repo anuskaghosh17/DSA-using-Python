{
 "cells": [
  {
   "cell_type": "code",
   "execution_count": 1,
   "id": "aa19e5f0-b076-49ac-992f-685b239443d5",
   "metadata": {},
   "outputs": [
    {
     "name": "stdout",
     "output_type": "stream",
     "text": [
      "11 22 33 \n",
      "44 55 66 \n",
      "77 88 99 \n"
     ]
    }
   ],
   "source": [
    "#5 marks\n",
    "import numpy as np\n",
    "x1 = np.array([ [1,2,3],[4,5,6],[7,8,9] ])\n",
    "x2 = np.array([ [10,20,30],[40,50,60],[70,80,90] ])\n",
    "\n",
    "result = []\n",
    "for i in range(len(x1)):\n",
    "    row = []\n",
    "    for j in range(len(x1[0])):\n",
    "        row.append(x1[i][j] + x2[i][j])\n",
    "    result.append(row)\n",
    "\n",
    "#print the result\n",
    "for i in result:\n",
    "    for j in i:\n",
    "        print(j, end = \" \")\n",
    "    print()"
   ]
  },
  {
   "cell_type": "code",
   "execution_count": 4,
   "id": "914f5765-8502-4459-b9f8-33259cbf98a5",
   "metadata": {},
   "outputs": [
    {
     "name": "stdout",
     "output_type": "stream",
     "text": [
      "11 22 33 \n",
      "44 55 66 \n",
      "77 88 99 \n"
     ]
    }
   ],
   "source": [
    "#define a function for the above code\n",
    "import numpy as np\n",
    "x1 = np.array([ [1,2,3],[4,5,6],[7,8,9] ])\n",
    "x2 = np.array([ [10,20,30],[40,50,60],[70,80,90] ])\n",
    "\n",
    "def addition_matrix(x1,x2):\n",
    "    result = []\n",
    "    for i in range(len(x1)):\n",
    "        row = []\n",
    "        for j in range(len(x1[0])):\n",
    "            row.append(x1[i][j] + x2[i][j])\n",
    "        result.append(row)\n",
    "\n",
    "#print the result\n",
    "for i in result:\n",
    "    for j in i:\n",
    "        print(j, end = \" \")\n",
    "    print()\n",
    "addition_matrix(x1,x2)"
   ]
  },
  {
   "cell_type": "code",
   "execution_count": 3,
   "id": "31e56d58-ac07-4398-9e4f-e2592bd4a7d8",
   "metadata": {},
   "outputs": [
    {
     "name": "stdout",
     "output_type": "stream",
     "text": [
      "[[11 22 33]\n",
      " [44 55 66]\n",
      " [77 88 99]]\n"
     ]
    }
   ],
   "source": [
    "#2 Marks\n",
    "import numpy as np\n",
    "x1 = np.array([ [1,2,3],[4,5,6],[7,8,9] ])\n",
    "x2 = np.array([ [10,20,30],[40,50,60],[70,80,90] ])\n",
    "print (x1+x2)"
   ]
  }
 ],
 "metadata": {
  "kernelspec": {
   "display_name": "Python 3 (ipykernel)",
   "language": "python",
   "name": "python3"
  },
  "language_info": {
   "codemirror_mode": {
    "name": "ipython",
    "version": 3
   },
   "file_extension": ".py",
   "mimetype": "text/x-python",
   "name": "python",
   "nbconvert_exporter": "python",
   "pygments_lexer": "ipython3",
   "version": "3.12.7"
  }
 },
 "nbformat": 4,
 "nbformat_minor": 5
}
