{
 "cells": [
  {
   "cell_type": "code",
   "execution_count": null,
   "id": "d3077992-2c98-417e-9fc2-0a1846174c2c",
   "metadata": {},
   "outputs": [],
   "source": [
    "#Find the largest and smallest elements in an array\n",
    "#Write a python function that takes an array of numbers and returns the largest and smallest elements in the array\n",
    "#Hint: Use Built-in functions min(), max()"
   ]
  },
  {
   "cell_type": "code",
   "execution_count": 1,
   "id": "27042e16-a249-4a75-817e-0430d826ea2a",
   "metadata": {},
   "outputs": [
    {
     "data": {
      "text/plain": [
       "(10, 50)"
      ]
     },
     "execution_count": 1,
     "metadata": {},
     "output_type": "execute_result"
    }
   ],
   "source": [
    "import numpy as np\n",
    "x = np.array([10,20,30,40,50])\n",
    "def min_max(x):\n",
    "    min_e = np.min(x)\n",
    "    max_e = np.max(x)\n",
    "    return min_e, max_e\n",
    "min_max(x)"
   ]
  }
 ],
 "metadata": {
  "kernelspec": {
   "display_name": "Python 3 (ipykernel)",
   "language": "python",
   "name": "python3"
  },
  "language_info": {
   "codemirror_mode": {
    "name": "ipython",
    "version": 3
   },
   "file_extension": ".py",
   "mimetype": "text/x-python",
   "name": "python",
   "nbconvert_exporter": "python",
   "pygments_lexer": "ipython3",
   "version": "3.12.7"
  }
 },
 "nbformat": 4,
 "nbformat_minor": 5
}
