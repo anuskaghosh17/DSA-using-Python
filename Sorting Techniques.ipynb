{
 "cells": [
  {
   "cell_type": "code",
   "execution_count": 1,
   "id": "a11ec2ad-565b-40b8-bff0-9486faf3cde9",
   "metadata": {},
   "outputs": [
    {
     "name": "stdin",
     "output_type": "stream",
     "text": [
      "Enter number of elements: 5\n",
      "Enter elements: 60\n",
      "Enter elements: 50\n",
      "Enter elements: 95\n",
      "Enter elements: 80\n",
      "Enter elements: 75\n"
     ]
    },
    {
     "name": "stdout",
     "output_type": "stream",
     "text": [
      "The sorted elements are:\n",
      "50 60 75 80 95 "
     ]
    }
   ],
   "source": [
    "#Bubble Sorting\n",
    "def bubble_sort(list):\n",
    "    size=len(list)\n",
    "    for i in range(size-1):\n",
    "        for j in range(size-1):\n",
    "            if list[j]>list[j+1]:\n",
    "                temp=list[j]\n",
    "                list[j]=list[j+1]\n",
    "                list[j+1] =temp\n",
    "                \n",
    "n = int(input(\"Enter number of elements:\"))\n",
    "#take user input\n",
    "lst=[]\n",
    "for i in range(n):\n",
    "    num=int(input(\"Enter elements:\"))\n",
    "    lst.append(num)\n",
    "    \n",
    "bubble_sort(lst)\n",
    "print(\"The sorted elements are:\")\n",
    "for i in range(n):\n",
    "    print(lst[i], end=\" \")"
   ]
  },
  {
   "cell_type": "code",
   "execution_count": 2,
   "id": "4b3e1da8-17b0-4e6c-a0e4-90ded05b1637",
   "metadata": {},
   "outputs": [
    {
     "name": "stdin",
     "output_type": "stream",
     "text": [
      "Enter number of elements: 5\n",
      "Enter elements: 80\n",
      "Enter elements: 70\n",
      "Enter elements: 60\n",
      "Enter elements: 50\n",
      "Enter elements: 95\n"
     ]
    },
    {
     "name": "stdout",
     "output_type": "stream",
     "text": [
      "The sorted elements are:\n",
      "50 60 70 80 95 "
     ]
    }
   ],
   "source": [
    "#Insert Sorting\n",
    "def insertion_sort(list):\n",
    "    size=len(list)\n",
    "    for i in range(1,size):\n",
    "        temp = list[i]\n",
    "        j = i-1\n",
    "        while temp<list[j] and j>=0:\n",
    "            list[j+1]=list[j]\n",
    "            j=j-1\n",
    "        list[j+1]=temp\n",
    "        \n",
    "n=int(input(\"Enter number of elements:\"))\n",
    "lst=[]\n",
    "for i in range(n):\n",
    "    num=int(input(\"Enter elements:\"))\n",
    "    lst.append(num)\n",
    "    \n",
    "insertion_sort(lst)\n",
    "print(\"The sorted elements are:\")\n",
    "for i in range(n):\n",
    "    print(lst[i], end=\" \")"
   ]
  },
  {
   "cell_type": "code",
   "execution_count": 3,
   "id": "61780fdb-75dc-4609-9fda-0f14f6ea7a59",
   "metadata": {},
   "outputs": [
    {
     "name": "stdin",
     "output_type": "stream",
     "text": [
      "Enter number of elements:  5\n",
      "Enter element:  80\n",
      "Enter element:  70\n",
      "Enter element:  60\n",
      "Enter element:  50\n",
      "Enter element:  95\n"
     ]
    },
    {
     "name": "stdout",
     "output_type": "stream",
     "text": [
      "The sorted elements are:\n",
      "50 60 70 80 95 "
     ]
    }
   ],
   "source": [
    "#Selection Sorting\n",
    "def selection_sort(lst):\n",
    "    size = len(lst)\n",
    "    for i in range(size-1):\n",
    "        min_val = lst[i] # Store the minimum value\n",
    "        posn = i # Track the position of the minimum value\n",
    "        for j in range(i+1, size):\n",
    "            if lst[j] < min_val: # Compare to find the new minimum\n",
    "                min_val = lst[j]\n",
    "                posn = j\n",
    "        if i != posn: # If the minimum value is not at the current position\n",
    "            lst[i], lst[posn] = lst[posn], lst[i] # Swap\n",
    "n = int(input(\"Enter number of elements: \"))\n",
    "lst = []\n",
    "for i in range(n):\n",
    "    num = int(input(\"Enter element: \"))\n",
    "    lst.append(num)\n",
    "selection_sort(lst)\n",
    "\n",
    "print(\"The sorted elements are:\")\n",
    "for i in range(n):\n",
    "    print(lst[i], end=\" \")"
   ]
  },
  {
   "cell_type": "code",
   "execution_count": 4,
   "id": "4b71067b-9d46-461d-9c03-0bf0129c48cc",
   "metadata": {},
   "outputs": [
    {
     "name": "stdin",
     "output_type": "stream",
     "text": [
      "Enter number of elements:  7\n",
      "Enter element:  33\n",
      "Enter element:  85\n",
      "Enter element:  40\n",
      "Enter element:  12\n",
      "Enter element:  57\n",
      "Enter element:  2\n",
      "Enter element:  25\n"
     ]
    },
    {
     "name": "stdout",
     "output_type": "stream",
     "text": [
      "Original Array: [33, 85, 40, 12, 57, 2, 25]\n",
      "Sorted Array: [2, 12, 25, 33, 40, 57, 85]\n"
     ]
    }
   ],
   "source": [
    "#Merge Shot\n",
    "def MergeList(arr, lst, lend, rst, rend):\n",
    "    temp = []\n",
    "    i = lst # i points to the beginning of the left subarray\n",
    "    j = rst # j points to the beginning of the right subarray\n",
    "    # Merge the two subarrays into the temp list\n",
    "    while i <= lend and j <= rend:\n",
    "        if arr[i] < arr[j]:\n",
    "            temp.append(arr[i])\n",
    "            i += 1\n",
    "        else:\n",
    "            temp.append(arr[j])\n",
    "            j += 1\n",
    "    # If there are any remaining elements in the left subarray\n",
    "    while i <= lend:\n",
    "        temp.append(arr[i])\n",
    "        i += 1\n",
    "    # If there are any remaining elements in the right subarray\n",
    "    while j <= rend:\n",
    "        temp.append(arr[j])\n",
    "        j += 1\n",
    "    # Copy the sorted elements back into the original array\n",
    "    for i in range(lst, rend + 1):\n",
    "        arr[i] = temp[i - lst]\n",
    "        \n",
    "def mergesort(arr, left, right):\n",
    "    if left < right:\n",
    "        mid = (left + right) // 2 # Correct mid calculation\n",
    "        # Recursively sort the two halves\n",
    "        mergesort(arr, left, mid)\n",
    "        mergesort(arr, mid + 1, right)\n",
    "        # Merge the sorted halves\n",
    "        MergeList(arr, left, mid, mid + 1, right)\n",
    "        \n",
    "# Main program to input and test the sorting\n",
    "arr = []\n",
    "n = int(input(\"Enter number of elements: \"))\n",
    "for i in range(n):\n",
    "    arr.append(int(input(\"Enter element: \")))\n",
    "print(\"Original Array:\", arr)\n",
    "mergesort(arr, 0, n - 1)\n",
    "print(\"Sorted Array:\", arr)"
   ]
  },
  {
   "cell_type": "code",
   "execution_count": 1,
   "id": "3bec1439-bf31-4990-8e67-a3bf90876098",
   "metadata": {},
   "outputs": [
    {
     "name": "stdin",
     "output_type": "stream",
     "text": [
      "Enter number of elements:  7\n",
      "Enter number:  33\n",
      "Enter number:  85\n",
      "Enter number:  40\n",
      "Enter number:  12\n",
      "Enter number:  57\n",
      "Enter number:  2\n",
      "Enter number:  25\n"
     ]
    },
    {
     "name": "stdout",
     "output_type": "stream",
     "text": [
      "Original Array: [33, 85, 40, 12, 57, 2, 25]\n",
      "Sorted Array: [2, 12, 25, 33, 40, 57, 85]\n"
     ]
    }
   ],
   "source": [
    "#Quick Sort\n",
    "def partitionlist(arr, left, right):\n",
    "    pivot = arr[right] # Pivot chosen as the rightmost element\n",
    "    i = left - 1 # Pointer for the smaller element\n",
    "    for j in range(left, right):\n",
    "        if arr[j] <= pivot: # If the current element is smaller than or equal to the pivot\n",
    "            i += 1 # Increment the pointer\n",
    "            arr[i], arr[j] = arr[j], arr[i] # Swap the elements\n",
    "            \n",
    "    # Swap the pivot element to its correct position\n",
    "    arr[i + 1], arr[right] = arr[right], arr[i + 1]\n",
    "    return i + 1 # Return the pivot index\n",
    "    \n",
    "def quicksort(arr, left, right):\n",
    "    if left < right:\n",
    "        loc = partitionlist(arr, left, right) # Partition the array\n",
    "        quicksort(arr, left, loc - 1) # Recursively sort the left part\n",
    "        quicksort(arr, loc + 1, right) # Recursively sort the right part\n",
    "        \n",
    "# Input and execution\n",
    "arr = []\n",
    "n = int(input(\"Enter number of elements: \"))\n",
    "for i in range(n):\n",
    "    arr.append(int(input(\"Enter number: \")))\n",
    "    \n",
    "print(\"Original Array:\", arr)\n",
    "quicksort(arr, 0, n - 1)\n",
    "print(\"Sorted Array:\", arr)"
   ]
  }
 ],
 "metadata": {
  "kernelspec": {
   "display_name": "Python 3 (ipykernel)",
   "language": "python",
   "name": "python3"
  },
  "language_info": {
   "codemirror_mode": {
    "name": "ipython",
    "version": 3
   },
   "file_extension": ".py",
   "mimetype": "text/x-python",
   "name": "python",
   "nbconvert_exporter": "python",
   "pygments_lexer": "ipython3",
   "version": "3.12.7"
  }
 },
 "nbformat": 4,
 "nbformat_minor": 5
}
