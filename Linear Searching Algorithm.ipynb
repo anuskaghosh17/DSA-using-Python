{
 "cells": [
  {
   "cell_type": "code",
   "execution_count": 3,
   "id": "1a155185-303c-4837-b919-fe21abc3ce16",
   "metadata": {},
   "outputs": [
    {
     "name": "stdin",
     "output_type": "stream",
     "text": [
      " 10\n"
     ]
    },
    {
     "name": "stdout",
     "output_type": "stream",
     "text": [
      "Element not found\n",
      "Element not found\n",
      "Element not found\n",
      "Element not found\n",
      "Element not found\n",
      "5\n"
     ]
    }
   ],
   "source": [
    "#Positive Indexing\n",
    "import numpy as np\n",
    "x = np.array([11,15,26,38,9,10])\n",
    "target = int(input())\n",
    "def linear_search(x,target):\n",
    "    n = len(x)\n",
    "    for i in range(n):\n",
    "        if x[i] == target:\n",
    "            print(i)\n",
    "        else: \n",
    "            print(\"Element not found\")\n",
    "linear_search(x,target)            "
   ]
  },
  {
   "cell_type": "code",
   "execution_count": 4,
   "id": "da3a5587-b86e-4485-9967-7d817009f073",
   "metadata": {},
   "outputs": [
    {
     "name": "stdin",
     "output_type": "stream",
     "text": [
      " 10\n"
     ]
    },
    {
     "name": "stdout",
     "output_type": "stream",
     "text": [
      "5\n"
     ]
    }
   ],
   "source": [
    "#Positive Indexing\n",
    "import numpy as np\n",
    "x = np.array([11,15,26,38,9,10])\n",
    "target = int(input())\n",
    "def linear_search(x,target):\n",
    "    n = len(x)\n",
    "    for i in range(n):\n",
    "        if x[i] == target:\n",
    "            print(i)\n",
    "linear_search(x,target)            "
   ]
  },
  {
   "cell_type": "code",
   "execution_count": 1,
   "id": "deff59eb-0597-4d4b-bf58-4146ec03fcd9",
   "metadata": {},
   "outputs": [
    {
     "name": "stdin",
     "output_type": "stream",
     "text": [
      " 26\n"
     ]
    },
    {
     "name": "stdout",
     "output_type": "stream",
     "text": [
      "Element found at index: 2\n"
     ]
    }
   ],
   "source": [
    "#using while loop\n",
    "import numpy as np\n",
    "x = np.array([11,15,26,38,9,10])\n",
    "target = int(input())\n",
    "\n",
    "def linear_search(x, target):\n",
    "    index = 0  # Step 1: Initialize index to 0\n",
    "    n = len(x)  # Get the n(size) of the list\n",
    "    \n",
    "    while index < n:  # Step 2: Loop while index is less than n\n",
    "        if x[index] == target:  # Step 2a: Check if element at index matches target\n",
    "            return index  # Return index if target is found\n",
    "        index += 1  # Step 2b: Increment index by 1\n",
    "    \n",
    "    return -1  # Step 3: Return -1 if target is not found\n",
    "\n",
    "result = linear_search(x, target)\n",
    "print(\"Element found at index:\" if result != -1 else \"Element not found\", result)"
   ]
  },
  {
   "cell_type": "code",
   "execution_count": null,
   "id": "f165c8fb-82a4-4f9a-8bbf-06df69e2f593",
   "metadata": {},
   "outputs": [],
   "source": []
  }
 ],
 "metadata": {
  "kernelspec": {
   "display_name": "Python 3 (ipykernel)",
   "language": "python",
   "name": "python3"
  },
  "language_info": {
   "codemirror_mode": {
    "name": "ipython",
    "version": 3
   },
   "file_extension": ".py",
   "mimetype": "text/x-python",
   "name": "python",
   "nbconvert_exporter": "python",
   "pygments_lexer": "ipython3",
   "version": "3.12.7"
  }
 },
 "nbformat": 4,
 "nbformat_minor": 5
}
