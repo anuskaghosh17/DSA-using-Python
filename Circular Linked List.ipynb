{
 "cells": [
  {
   "cell_type": "code",
   "execution_count": 1,
   "id": "856eb5b2-662b-4f13-bb60-1f7490fec5d3",
   "metadata": {},
   "outputs": [
    {
     "name": "stdout",
     "output_type": "stream",
     "text": [
      "Circular Linked List:\n",
      "10 -> 20 -> 30 -> 40 -> (Head)\n",
      "\n",
      "Deleting node with value 20\n",
      "10 -> 30 -> 40 -> (Head)\n"
     ]
    }
   ],
   "source": [
    "class Node:\n",
    "    def __init__(self, data):\n",
    "        self.data = data\n",
    "        self.next = None\n",
    "\n",
    "class CircularLinkedList:\n",
    "    def __init__(self):\n",
    "        self.head = None\n",
    "\n",
    "    def append(self, data):\n",
    "        new_node = Node(data)\n",
    "        if not self.head:\n",
    "            self.head = new_node\n",
    "            self.head.next = self.head\n",
    "        else:\n",
    "            temp = self.head\n",
    "            while temp.next != self.head:\n",
    "                temp = temp.next\n",
    "            temp.next = new_node\n",
    "            new_node.next = self.head\n",
    "\n",
    "    def display(self):\n",
    "        if not self.head:\n",
    "            print(\"List is empty\")\n",
    "            return\n",
    "        temp = self.head\n",
    "        while True:\n",
    "            print(temp.data, end=\" -> \")\n",
    "            temp = temp.next\n",
    "            if temp == self.head:\n",
    "                break\n",
    "        print(\"(Head)\")\n",
    "\n",
    "    def delete(self, key):\n",
    "        if self.head is None:\n",
    "            return\n",
    "        \n",
    "        temp = self.head\n",
    "        prev = None\n",
    "        while True:\n",
    "            if temp.data == key:\n",
    "                if temp == self.head and temp.next == self.head:\n",
    "                    self.head = None\n",
    "                elif temp == self.head:\n",
    "                    prev = self.head\n",
    "                    while prev.next != self.head:\n",
    "                        prev = prev.next\n",
    "                    self.head = temp.next\n",
    "                    prev.next = self.head\n",
    "                else:\n",
    "                    prev.next = temp.next\n",
    "                return\n",
    "            prev = temp\n",
    "            temp = temp.next\n",
    "            if temp == self.head:\n",
    "                break\n",
    "        print(\"Key not found in the list\")\n",
    "\n",
    "# Example Usage\n",
    "cll = CircularLinkedList()\n",
    "cll.append(10)\n",
    "cll.append(20)\n",
    "cll.append(30)\n",
    "cll.append(40)\n",
    "\n",
    "print(\"Circular Linked List:\")\n",
    "cll.display()\n",
    "\n",
    "print(\"\\nDeleting node with value 20\")\n",
    "cll.delete(20)\n",
    "cll.display()"
   ]
  }
 ],
 "metadata": {
  "kernelspec": {
   "display_name": "Python 3 (ipykernel)",
   "language": "python",
   "name": "python3"
  },
  "language_info": {
   "codemirror_mode": {
    "name": "ipython",
    "version": 3
   },
   "file_extension": ".py",
   "mimetype": "text/x-python",
   "name": "python",
   "nbconvert_exporter": "python",
   "pygments_lexer": "ipython3",
   "version": "3.12.7"
  }
 },
 "nbformat": 4,
 "nbformat_minor": 5
}
