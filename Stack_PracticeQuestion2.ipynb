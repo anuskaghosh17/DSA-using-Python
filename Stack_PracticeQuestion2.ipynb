{
 "cells": [
  {
   "cell_type": "markdown",
   "id": "13fce03c-8d89-464f-aa75-6088a21c0bdb",
   "metadata": {},
   "source": [
    "**STACK IMPLEMENTATION BASED ON ARRAY/LIST/LINKED_LIST**"
   ]
  },
  {
   "cell_type": "markdown",
   "id": "a0fe9ce0-5dc8-4d0f-8ffe-9083b36c14c3",
   "metadata": {},
   "source": [
    "**1 . PARENTHESES POSITIONING ERROR:**"
   ]
  },
  {
   "cell_type": "markdown",
   "id": "7817b485-81eb-42cd-9478-1ee9b95d760a",
   "metadata": {},
   "source": [
    "**• Write a function to find the position of the first mismatched parenthesis in a given\n",
    "string. Return -1 if all parentheses are balanced.**"
   ]
  },
  {
   "cell_type": "code",
   "execution_count": 1,
   "id": "680f87fd-7123-42fa-8a8e-f7d237b5eeaa",
   "metadata": {},
   "outputs": [
    {
     "name": "stdout",
     "output_type": "stream",
     "text": [
      "First mismatch position: 4\n"
     ]
    }
   ],
   "source": [
    "class ParenthesesChecker:\n",
    "    def find_first_mismatch(self, s):\n",
    "        # Finds the position of the first mismatched parenthesis.\n",
    "        stack = []\n",
    "        for i, char in enumerate(s):\n",
    "            if char == '(':\n",
    "                stack.append(i)\n",
    "            elif char == ')':\n",
    "                if stack:\n",
    "                    stack.pop()\n",
    "                else:\n",
    "                    return i  # First mismatch found\n",
    "        return stack[0] if stack else -1\n",
    "\n",
    "# Example usage\n",
    "checker = ParenthesesChecker()\n",
    "s = \"(()))(()\"\n",
    "print(\"First mismatch position:\", checker.find_first_mismatch(s))"
   ]
  },
  {
   "cell_type": "markdown",
   "id": "82eaf660-a8c0-40f6-9c2e-b03598167c5d",
   "metadata": {},
   "source": [
    "**2. PARENTHESES IN A LONG STRING:**"
   ]
  },
  {
   "cell_type": "markdown",
   "id": "1ec9739a-dcd6-44a2-9afc-ba354966067e",
   "metadata": {},
   "source": [
    "**• Given a long string with multiple characters, find all the positions where parentheses\n",
    "are balanced and return them.**"
   ]
  },
  {
   "cell_type": "code",
   "execution_count": 2,
   "id": "e838f6eb-3795-499f-b587-62a5388a2225",
   "metadata": {},
   "outputs": [
    {
     "name": "stdout",
     "output_type": "stream",
     "text": [
      "Balanced positions: [(1, 2), (0, 3), (6, 7)]\n"
     ]
    }
   ],
   "source": [
    "class ParenthesesChecker:\n",
    "    def find_balanced_positions(self, s):\n",
    "        # Finds all positions where parentheses are balanced.\n",
    "        stack = []\n",
    "        balanced_positions = []\n",
    "        for i, char in enumerate(s):\n",
    "            if char == '(':\n",
    "                stack.append(i)\n",
    "            elif char == ')':\n",
    "                if stack:\n",
    "                    balanced_positions.append((stack.pop(), i))\n",
    "        return balanced_positions\n",
    "\n",
    "# Example usage\n",
    "checker = ParenthesesChecker()\n",
    "s = \"(()))(()\"\n",
    "print(\"Balanced positions:\", checker.find_balanced_positions(s))"
   ]
  },
  {
   "cell_type": "markdown",
   "id": "34ebec8c-366d-450e-9ab2-287ef62f3c05",
   "metadata": {},
   "source": [
    "**3. MINIMUM NUMBER OF PARENTHESES TO ADD:**"
   ]
  },
  {
   "cell_type": "markdown",
   "id": "67575230-abe7-4a3e-8c2a-5b2c13b257da",
   "metadata": {},
   "source": [
    "**• Given a string with parentheses, find the minimum number of parentheses needed to\n",
    "be added to make the string valid.**"
   ]
  },
  {
   "cell_type": "code",
   "execution_count": 3,
   "id": "0cb63017-5366-41cb-98cb-7845a88bf8e4",
   "metadata": {},
   "outputs": [
    {
     "name": "stdout",
     "output_type": "stream",
     "text": [
      "Minimum parentheses to add: 2\n"
     ]
    }
   ],
   "source": [
    "class ParenthesesChecker:\n",
    "    def min_parentheses_to_add(self, s):\n",
    "        # Finds the minimum number of parentheses needed to make the string valid.\n",
    "        stack = []\n",
    "        count = 0\n",
    "        for char in s:\n",
    "            if char == '(':\n",
    "                stack.append(char)\n",
    "            elif char == ')':\n",
    "                if stack:\n",
    "                    stack.pop()\n",
    "                else:\n",
    "                    count += 1  # Need an extra '('\n",
    "        return count + len(stack)  # Unmatched open brackets need closing\n",
    "\n",
    "# Example usage\n",
    "checker = ParenthesesChecker()\n",
    "s = \"(()))(()\"\n",
    "print(\"Minimum parentheses to add:\", checker.min_parentheses_to_add(s))"
   ]
  },
  {
   "cell_type": "markdown",
   "id": "6b33e153-749c-42bd-aae5-5dbe1d44d1e3",
   "metadata": {},
   "source": [
    "**4. LONGEST VALID PARENTHESES SUBSTRING:**"
   ]
  },
  {
   "cell_type": "markdown",
   "id": "6b55887a-38a8-432e-9637-107301653892",
   "metadata": {},
   "source": [
    "**• Given a string containing just the characters ( and ), find the length of the longest\n",
    "valid (well-formed) parentheses substring.**"
   ]
  },
  {
   "cell_type": "code",
   "execution_count": 4,
   "id": "d8bca193-80f0-4fce-b96e-d9e5554d2d8b",
   "metadata": {},
   "outputs": [
    {
     "name": "stdout",
     "output_type": "stream",
     "text": [
      "Longest valid parentheses substring: 4\n"
     ]
    }
   ],
   "source": [
    "class ParenthesesChecker:\n",
    "    def longest_valid_parentheses(self, s):\n",
    "        # Finds the length of the longest valid parentheses substring.\n",
    "        stack = [-1]\n",
    "        max_length = 0\n",
    "        for i, char in enumerate(s):\n",
    "            if char == '(':\n",
    "                stack.append(i)\n",
    "            else:\n",
    "                stack.pop()\n",
    "                if stack:\n",
    "                    max_length = max(max_length, i - stack[-1])\n",
    "                else:\n",
    "                    stack.append(i)\n",
    "        return max_length\n",
    "\n",
    "# Example usage\n",
    "checker = ParenthesesChecker()\n",
    "s = \"(()))(()\"\n",
    "print(\"Longest valid parentheses substring:\", checker.longest_valid_parentheses(s))"
   ]
  }
 ],
 "metadata": {
  "kernelspec": {
   "display_name": "Python 3 (ipykernel)",
   "language": "python",
   "name": "python3"
  },
  "language_info": {
   "codemirror_mode": {
    "name": "ipython",
    "version": 3
   },
   "file_extension": ".py",
   "mimetype": "text/x-python",
   "name": "python",
   "nbconvert_exporter": "python",
   "pygments_lexer": "ipython3",
   "version": "3.12.7"
  }
 },
 "nbformat": 4,
 "nbformat_minor": 5
}
