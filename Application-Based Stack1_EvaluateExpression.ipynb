{
 "cells": [
  {
   "cell_type": "code",
   "execution_count": 1,
   "id": "3df46ccf-1a7a-471e-8556-7738b764eace",
   "metadata": {},
   "outputs": [
    {
     "name": "stdout",
     "output_type": "stream",
     "text": [
      "3\n",
      "0\n",
      "200\n"
     ]
    }
   ],
   "source": [
    "# Program to evaluate the given expression and print the answer\n",
    "# 1+2 = 3\n",
    "# (1+2) / 5 = 0\n",
    "# 10 * 20 = 200\n",
    "\n",
    "class ExpressionEvaluator:\n",
    "    def __init__(self):\n",
    "        self.precedence = {'+': 1, '-': 1, '*': 2, '/': 2}\n",
    "    \n",
    "    def infix_to_postfix(self, expression):\n",
    "        output, stack = [], []\n",
    "        tokens = expression.split()\n",
    "        \n",
    "        for token in tokens:\n",
    "            if token.isdigit():\n",
    "                output.append(token)\n",
    "            elif token in self.precedence:\n",
    "                while stack and stack[-1] in self.precedence and self.precedence[stack[-1]] >= self.precedence[token]:\n",
    "                    output.append(stack.pop())\n",
    "                stack.append(token)\n",
    "            elif token == '(':\n",
    "                stack.append(token)\n",
    "            elif token == ')':\n",
    "                while stack and stack[-1] != '(':\n",
    "                    output.append(stack.pop())\n",
    "                stack.pop()\n",
    "        \n",
    "        while stack:\n",
    "            output.append(stack.pop())\n",
    "        \n",
    "        return output\n",
    "\n",
    "    def evaluate_postfix(self, postfix):\n",
    "        stack = []\n",
    "        \n",
    "        for token in postfix:\n",
    "            if token.isdigit():\n",
    "                stack.append(int(token))\n",
    "            else:\n",
    "                b, a = stack.pop(), stack.pop()\n",
    "                if token == '+':\n",
    "                    stack.append(a + b)\n",
    "                elif token == '-':\n",
    "                    stack.append(a - b)\n",
    "                elif token == '*':\n",
    "                    stack.append(a * b)\n",
    "                elif token == '/':\n",
    "                    stack.append(a // b)  # Integer division\n",
    "        \n",
    "        return stack[0]\n",
    "\n",
    "    def evaluate(self, expression):\n",
    "        return self.evaluate_postfix(self.infix_to_postfix(expression))\n",
    "\n",
    "\n",
    "if __name__ == \"__main__\":\n",
    "    evaluator = ExpressionEvaluator()\n",
    "    expressions = [\"1 + 2\", \"( 1 + 2 ) / 5\", \"10 * 20\"]\n",
    "    \n",
    "    for expr in expressions:\n",
    "        print(evaluator.evaluate(expr))\n"
   ]
  },
  {
   "cell_type": "code",
   "execution_count": null,
   "id": "2a5447d4-58b3-4709-9f70-bccae193ac7e",
   "metadata": {},
   "outputs": [],
   "source": []
  }
 ],
 "metadata": {
  "kernelspec": {
   "display_name": "Python 3 (ipykernel)",
   "language": "python",
   "name": "python3"
  },
  "language_info": {
   "codemirror_mode": {
    "name": "ipython",
    "version": 3
   },
   "file_extension": ".py",
   "mimetype": "text/x-python",
   "name": "python",
   "nbconvert_exporter": "python",
   "pygments_lexer": "ipython3",
   "version": "3.12.7"
  }
 },
 "nbformat": 4,
 "nbformat_minor": 5
}
