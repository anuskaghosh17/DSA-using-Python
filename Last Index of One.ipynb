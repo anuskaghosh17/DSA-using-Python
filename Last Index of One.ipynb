{
 "cells": [
  {
   "cell_type": "code",
   "execution_count": 1,
   "id": "611e8ba1-3bcc-403a-b013-84f4273d42e5",
   "metadata": {},
   "outputs": [
    {
     "name": "stdout",
     "output_type": "stream",
     "text": [
      "last index of one: 6\n"
     ]
    }
   ],
   "source": [
    "#last occurance of one\n",
    "import numpy as np\n",
    "x = np.array([0,1,1,0,1,0,1,0,0])\n",
    "def last1_occur(x):\n",
    "    index = -1\n",
    "    n = len(x)\n",
    "    for i in range(n):\n",
    "        if x[i]==1:\n",
    "            index = i\n",
    "    return index\n",
    "print(\"last index of one:\", last1_occur(x))"
   ]
  }
 ],
 "metadata": {
  "kernelspec": {
   "display_name": "Python 3 (ipykernel)",
   "language": "python",
   "name": "python3"
  },
  "language_info": {
   "codemirror_mode": {
    "name": "ipython",
    "version": 3
   },
   "file_extension": ".py",
   "mimetype": "text/x-python",
   "name": "python",
   "nbconvert_exporter": "python",
   "pygments_lexer": "ipython3",
   "version": "3.12.7"
  }
 },
 "nbformat": 4,
 "nbformat_minor": 5
}
