{
 "cells": [
  {
   "cell_type": "code",
   "execution_count": 6,
   "id": "abe3b3e3-f460-46d6-865c-67bbd8f4026f",
   "metadata": {},
   "outputs": [
    {
     "name": "stdout",
     "output_type": "stream",
     "text": [
      "Original array: [1 2 3 4 5]\n",
      "Product array: [120, 60, 40, 30, 24]\n"
     ]
    }
   ],
   "source": [
    "import numpy as np\n",
    "x = np.array([1,2,3,4,5])\n",
    "def prod_without_div(x):\n",
    "    n = len(x)\n",
    "    prod_arr = [1]*n \n",
    "    for i in range(n):\n",
    "        for j in range(n):\n",
    "            if i != j:\n",
    "                prod_arr[i] *= x[j]\n",
    "    return prod_arr\n",
    "print(\"Original array:\",x)\n",
    "prod_arr = prod_without_div(x)\n",
    "print(\"Product array:\",prod_arr)"
   ]
  },
  {
   "cell_type": "code",
   "execution_count": null,
   "id": "55ada087-e063-4458-b2d6-429dc63c154f",
   "metadata": {},
   "outputs": [],
   "source": []
  }
 ],
 "metadata": {
  "kernelspec": {
   "display_name": "Python 3 (ipykernel)",
   "language": "python",
   "name": "python3"
  },
  "language_info": {
   "codemirror_mode": {
    "name": "ipython",
    "version": 3
   },
   "file_extension": ".py",
   "mimetype": "text/x-python",
   "name": "python",
   "nbconvert_exporter": "python",
   "pygments_lexer": "ipython3",
   "version": "3.12.7"
  }
 },
 "nbformat": 4,
 "nbformat_minor": 5
}
