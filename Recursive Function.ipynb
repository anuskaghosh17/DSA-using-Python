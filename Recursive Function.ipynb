{
 "cells": [
  {
   "cell_type": "code",
   "execution_count": 1,
   "id": "c5675bc9-dbdc-4553-9b66-f35f897e443b",
   "metadata": {},
   "outputs": [],
   "source": [
    "#Recursion: A technique where a function calls itself in order to solve itself with modified parameter\n",
    "#Base Case: Stopping point or termination point so that it avoid infinite execution\n",
    "#Its compulsory to specify base case\n",
    "#Factorial: n * (n - 1)"
   ]
  },
  {
   "cell_type": "code",
   "execution_count": 2,
   "id": "2a06a415-e2b2-4b1b-b185-b80f6c46d045",
   "metadata": {},
   "outputs": [
    {
     "data": {
      "text/plain": [
       "120"
      ]
     },
     "execution_count": 2,
     "metadata": {},
     "output_type": "execute_result"
    }
   ],
   "source": [
    "#Factorial using recursive function\n",
    "def factorial(n):\n",
    "    if n == 0 or n == 1: #base class\n",
    "        return 1\n",
    "    else:\n",
    "        return n * factorial(n - 1) #recursive case\n",
    "factorial(5)"
   ]
  },
  {
   "cell_type": "code",
   "execution_count": 1,
   "id": "b66b860b-b107-478b-a926-fd4ead343b19",
   "metadata": {},
   "outputs": [
    {
     "data": {
      "text/plain": [
       "120"
      ]
     },
     "execution_count": 1,
     "metadata": {},
     "output_type": "execute_result"
    }
   ],
   "source": [
    "#Factorial using iteration\n",
    "def factorial(n):\n",
    "    result = 1\n",
    "    for i in range(1,n+1):\n",
    "        result *= i\n",
    "    return result\n",
    "factorial(5)"
   ]
  },
  {
   "cell_type": "code",
   "execution_count": 3,
   "id": "bbbdf74a-0e17-467f-b973-b8c1138f6926",
   "metadata": {},
   "outputs": [
    {
     "data": {
      "text/plain": [
       "8"
      ]
     },
     "execution_count": 3,
     "metadata": {},
     "output_type": "execute_result"
    }
   ],
   "source": [
    "#Power using tail recursion\n",
    "def power(a,b):\n",
    "    if b == 0:\n",
    "        return 1\n",
    "    else:\n",
    "        return a * power(a, b-1)\n",
    "power(2,3)"
   ]
  },
  {
   "cell_type": "code",
   "execution_count": 5,
   "id": "7ef69586-88b3-428a-a24a-3218275a5b43",
   "metadata": {},
   "outputs": [
    {
     "name": "stdin",
     "output_type": "stream",
     "text": [
      " 5\n"
     ]
    },
    {
     "name": "stdout",
     "output_type": "stream",
     "text": [
      "Fibonacci number at position 5 is 3\n"
     ]
    }
   ],
   "source": [
    "#Fibonacci using binary recursion\n",
    "def fibonacci(n):\n",
    "    #Base Case\n",
    "    if n < 1:\n",
    "        return -1\n",
    "    elif n == 1:\n",
    "        return 0\n",
    "    elif n == 2:\n",
    "        return 1\n",
    "    #Recursive Case (Binary Recursion)\n",
    "    else:\n",
    "        return fibonacci(n-1) + fibonacci(n-2)\n",
    "n = int(input())\n",
    "fibonacci(n)\n",
    "print(f\"Fibonacci number at position {n} is {fibonacci(n)}\")"
   ]
  },
  {
   "cell_type": "code",
   "execution_count": 7,
   "id": "ab27807f-5239-407a-9364-e4033266023d",
   "metadata": {},
   "outputs": [
    {
     "name": "stdout",
     "output_type": "stream",
     "text": [
      "The number is odd\n"
     ]
    }
   ],
   "source": [
    "#Write a program to check whether an inputted number is odd or even using the mutual recursive function.\n",
    "def iseven(n):\n",
    "# Base case for even number\n",
    "    if n == 0:\n",
    "        return True\n",
    "# Base case for odd number\n",
    "    elif n == 1:\n",
    "        return False\n",
    "# Recursive case\n",
    "    elif n > 1:\n",
    "        return isodd(n - 1)\n",
    "# Handle negative numbers\n",
    "    elif n < 0:\n",
    "        return iseven(-n)\n",
    "\n",
    "def isodd(n):\n",
    "    return not iseven(n)\n",
    "# Input from the user\n",
    "n = -5\n",
    "if iseven(n):\n",
    "    print(\"The number is even\")\n",
    "else:\n",
    "    print(\"The number is odd\")"
   ]
  },
  {
   "cell_type": "code",
   "execution_count": null,
   "id": "133d5e82-10de-45db-a4ca-fac92ff2a172",
   "metadata": {},
   "outputs": [],
   "source": [
    "#Exercise problems"
   ]
  },
  {
   "cell_type": "code",
   "execution_count": 20,
   "id": "a4887032-5a10-461b-8c88-77de02d8829c",
   "metadata": {},
   "outputs": [
    {
     "name": "stdin",
     "output_type": "stream",
     "text": [
      "Enter the number of disks:  4\n"
     ]
    },
    {
     "name": "stdout",
     "output_type": "stream",
     "text": [
      "Move disk 1 from A to B\n",
      "Move disk 2 from A to C\n",
      "Move disk 1 from B to C\n",
      "Move disk 3 from A to B\n",
      "Move disk 1 from C to A\n",
      "Move disk 2 from C to B\n",
      "Move disk 1 from A to B\n",
      "Move disk 4 from A to C\n",
      "Move disk 1 from B to C\n",
      "Move disk 2 from B to A\n",
      "Move disk 1 from C to A\n",
      "Move disk 3 from B to C\n",
      "Move disk 1 from A to B\n",
      "Move disk 2 from A to C\n",
      "Move disk 1 from B to C\n"
     ]
    }
   ],
   "source": [
    "#Ex1: Write a program to implement the Tower of Hanoi problem\n",
    "def tower_of_hanoi(n, source, auxiliary, target):\n",
    "    if n == 1:\n",
    "        print(f\"Move disk 1 from {source} to {target}\")\n",
    "    else:\n",
    "        # Move n-1 disks from source to auxiliary using target as buffer\n",
    "        tower_of_hanoi(n - 1, source, target, auxiliary)\n",
    "    \n",
    "        # Move the nth disk from source to target\n",
    "        print(f\"Move disk {n} from {source} to {target}\")\n",
    "    \n",
    "        # Move n-1 disks from auxiliary to target using source as buffer\n",
    "        tower_of_hanoi(n - 1, auxiliary, source, target)\n",
    "\n",
    "n = int(input(\"Enter the number of disks: \"))\n",
    "tower_of_hanoi(n, 'A', 'B', 'C')"
   ]
  },
  {
   "cell_type": "code",
   "execution_count": 24,
   "id": "fc99f99b-5335-4988-b102-8ccb40c89e3f",
   "metadata": {},
   "outputs": [
    {
     "data": {
      "text/plain": [
       "10"
      ]
     },
     "execution_count": 24,
     "metadata": {},
     "output_type": "execute_result"
    }
   ],
   "source": [
    "#Ex2: Write a program to find the sum of digits of a number using recursion.\n",
    "def sum_of_digits(n):\n",
    "    if n == 0:\n",
    "        return 0\n",
    "    else:\n",
    "        last_digit = n % 10\n",
    "        remaining_sum = sum_of_digits(n // 10)\n",
    "        return last_digit + remaining_sum\n",
    "sum_of_digits(1234)"
   ]
  },
  {
   "cell_type": "code",
   "execution_count": 23,
   "id": "768cd7a4-2747-4192-8872-6c4b815074b0",
   "metadata": {},
   "outputs": [
    {
     "data": {
      "text/plain": [
       "6"
      ]
     },
     "execution_count": 23,
     "metadata": {},
     "output_type": "execute_result"
    }
   ],
   "source": [
    "#Ex3: Write a recursive function for GCD calculation\n",
    "def gcd(a, b):\n",
    "    if b == 0:\n",
    "        return a  # Base case: When b becomes 0, return a\n",
    "    else:\n",
    "        return gcd(b, a % b)  # Recursive case: Call gcd with (b, remainder of a/b)\n",
    "gcd(48,18)"
   ]
  },
  {
   "cell_type": "code",
   "execution_count": 28,
   "id": "25dd6dc6-8ebd-4da2-be83-81c6b9dd9101",
   "metadata": {},
   "outputs": [
    {
     "name": "stdin",
     "output_type": "stream",
     "text": [
      "Enter the number of terms:  10\n"
     ]
    },
    {
     "name": "stdout",
     "output_type": "stream",
     "text": [
      "0 1 1 2 2 4 4 8 8 16 "
     ]
    }
   ],
   "source": [
    "#Ex4: Write a program to print Fibonacci series using mutual recursion\n",
    "def fibonacci_even(n):\n",
    "    if n == 0:\n",
    "        return 0  # Base case for index 0\n",
    "    else:\n",
    "        return fibonacci_odd(n - 1)  # Reduce problem size and call odd function\n",
    "\n",
    "def fibonacci_odd(n):\n",
    "    if n == 1:\n",
    "        return 1  # Base case for index 1\n",
    "    else:\n",
    "        return fibonacci_even(n - 1) + fibonacci_odd(n - 2)  # Ensure decreasing input\n",
    "\n",
    "# Function to print Fibonacci series\n",
    "def fibonacci_series(count):\n",
    "    for i in range(count):\n",
    "        if i % 2 == 0:\n",
    "            print(fibonacci_even(i), end=\" \")\n",
    "        else:\n",
    "            print(fibonacci_odd(i), end=\" \")\n",
    "\n",
    "# Example usage\n",
    "n = int(input(\"Enter the number of terms: \"))\n",
    "fibonacci_series(n)"
   ]
  },
  {
   "cell_type": "code",
   "execution_count": 29,
   "id": "ffccd07e-594c-4c4d-b811-46be281ae638",
   "metadata": {},
   "outputs": [
    {
     "name": "stdin",
     "output_type": "stream",
     "text": [
      "Enter a decimal number:  10\n"
     ]
    },
    {
     "name": "stdout",
     "output_type": "stream",
     "text": [
      "Binary representation of 10 is: 1010\n"
     ]
    }
   ],
   "source": [
    "#Ex5: Write a recursive function to convert a decimal number to its equivalent binary number\n",
    "def decimal_to_binary(n):\n",
    "    if n == 0:\n",
    "        return \"0\"  # Base case: If n is 0, return \"0\"\n",
    "    elif n == 1:\n",
    "        return \"1\"  # Base case: If n is 1, return \"1\"\n",
    "    else:\n",
    "        return decimal_to_binary(n // 2) + str(n % 2)  # Recursive case\n",
    "\n",
    "n = int(input(\"Enter a decimal number: \"))\n",
    "print(f\"Binary representation of {n} is: {decimal_to_binary(n)}\")"
   ]
  },
  {
   "cell_type": "code",
   "execution_count": 30,
   "id": "e9816c8f-ef1f-4fcf-aeb2-fa97c0bfcbab",
   "metadata": {},
   "outputs": [
    {
     "name": "stdin",
     "output_type": "stream",
     "text": [
      "Enter an integer:  1002003\n"
     ]
    },
    {
     "name": "stdout",
     "output_type": "stream",
     "text": [
      "Number of zeroes in 1002003 is: 4\n"
     ]
    }
   ],
   "source": [
    "#Ex6: Write a recursive function to count the number of zeroes in an integer\n",
    "def count_zeros(n):\n",
    "    # If n is 0, return 0 as we don't want to count the 0 in the base case\n",
    "    if n == 0:\n",
    "        return 0\n",
    "\n",
    "    # If n is a single non-zero digit (positive or negative), return 0\n",
    "    elif n < 10 and n > -10:\n",
    "        return 0\n",
    "\n",
    "    # If the last digit of n is zero, add 1 to the count and recurse with the remaining digits\n",
    "    elif n % 10 == 0:\n",
    "        return 1 + count_zeros(n // 10)\n",
    "    \n",
    "    # If the last digit of n is not zero, just recurse with the remaining digits\n",
    "    else:\n",
    "        return count_zeros(n // 10)\n",
    "\n",
    "n = int(input(\"Enter an integer: \"))\n",
    "print(f\"Number of zeroes in {n} is: {count_zeros(n)}\")"
   ]
  },
  {
   "cell_type": "code",
   "execution_count": 31,
   "id": "d079227e-a373-4ec2-9824-116d8ecf8571",
   "metadata": {},
   "outputs": [
    {
     "name": "stdin",
     "output_type": "stream",
     "text": [
      "Enter a number:  5\n"
     ]
    },
    {
     "name": "stdout",
     "output_type": "stream",
     "text": [
      "The sum of the first 5 natural numbers is: 15\n"
     ]
    }
   ],
   "source": [
    "#Ex7: Write a recursive function to find the sum of the first n natural numbers\n",
    "def sum_natural_numbers(n):\n",
    "    # Base case: if n is 0, return 0 (the sum of the first 0 numbers is 0)\n",
    "    if n == 0:\n",
    "        return 0\n",
    "    else:\n",
    "        # Recursive case: add n to the sum of the first (n-1) numbers\n",
    "        return n + sum_natural_numbers(n - 1)\n",
    "\n",
    "n = int(input(\"Enter a number: \"))\n",
    "print(f\"The sum of the first {n} natural numbers is: {sum_natural_numbers(n)}\")"
   ]
  },
  {
   "cell_type": "code",
   "execution_count": 32,
   "id": "aa59582e-224a-4970-ba7f-55ce7c457eec",
   "metadata": {},
   "outputs": [
    {
     "name": "stdout",
     "output_type": "stream",
     "text": [
      "The number of digits in 12345 is 5\n"
     ]
    }
   ],
   "source": [
    "#Ex8: Write a recursive function to count the number of digits in an integer\n",
    "def count_digits(n):\n",
    "    # Base case: if n is 0, return 0\n",
    "    if n == 0:\n",
    "        return 0\n",
    "    # Recursive case: remove the last digit and count the digits\n",
    "    else:\n",
    "        return 1 + count_digits(n // 10)\n",
    "        \n",
    "n = 12345\n",
    "print(f\"The number of digits in {n} is {count_digits(n)}\")"
   ]
  },
  {
   "cell_type": "code",
   "execution_count": 33,
   "id": "f25c6be9-f71d-407e-8704-38e2b2d87efd",
   "metadata": {},
   "outputs": [
    {
     "name": "stdout",
     "output_type": "stream",
     "text": [
      "The number of odd digits in 12345 is 3\n"
     ]
    }
   ],
   "source": [
    "#Ex9: Write a recursive function to count the number of odd digits in an integer\n",
    "def count_odd_digits(n):\n",
    "    # Base case: if n is 0, no digits left to check\n",
    "    if n == 0:\n",
    "        return 0\n",
    "    # Check if the last digit is odd\n",
    "    else:\n",
    "        last_digit = n % 10\n",
    "        if last_digit % 2 != 0:\n",
    "            return 1 + count_odd_digits(n // 10)  # Add 1 if odd\n",
    "        else:\n",
    "            return count_odd_digits(n // 10)  # Don't add if even\n",
    "\n",
    "n = 12345\n",
    "print(f\"The number of odd digits in {n} is {count_odd_digits(n)}\")\n"
   ]
  },
  {
   "cell_type": "code",
   "execution_count": 34,
   "id": "aacdd5f0-c531-42b8-b733-e2ef6d32472c",
   "metadata": {},
   "outputs": [
    {
     "name": "stdout",
     "output_type": "stream",
     "text": [
      "The length of the string 'hello' is 5\n"
     ]
    }
   ],
   "source": [
    "#Ex10: Write a recursive function to find the length of a string\n",
    "def string_length(s):\n",
    "    # Base case: if the string is empty, return 0\n",
    "    if s == \"\":\n",
    "        return 0\n",
    "    # Recursive case: 1 for the current character + length of the rest of the string\n",
    "    else:\n",
    "        return 1 + string_length(s[1:])\n",
    "\n",
    "# Example usage\n",
    "s = \"hello\"\n",
    "print(f\"The length of the string '{s}' is {string_length(s)}\")"
   ]
  },
  {
   "cell_type": "code",
   "execution_count": 35,
   "id": "672b256c-4163-4f66-9f5f-c3617a2d9fe8",
   "metadata": {},
   "outputs": [
    {
     "name": "stdout",
     "output_type": "stream",
     "text": [
      "The number of digits in the string 'abc123def456' is 6\n"
     ]
    }
   ],
   "source": [
    "#Ex11: Write a recursive function to count the number of digits in a string\n",
    "def count_digits_in_string(s):\n",
    "    # Base case: if the string is empty, return 0\n",
    "    if s == \"\":\n",
    "        return 0\n",
    "    # Recursive case: check if the first character is a digit\n",
    "    elif s[0].isdigit():\n",
    "        return 1 + count_digits_in_string(s[1:])  # Add 1 if it's a digit\n",
    "    else:\n",
    "        return count_digits_in_string(s[1:])  # Skip if it's not a digit\n",
    "\n",
    "s = \"abc123def456\"\n",
    "print(f\"The number of digits in the string '{s}' is {count_digits_in_string(s)}\")"
   ]
  },
  {
   "cell_type": "code",
   "execution_count": 36,
   "id": "670c53a4-5182-4321-8a41-a584b2bee0b7",
   "metadata": {},
   "outputs": [
    {
     "name": "stdout",
     "output_type": "stream",
     "text": [
      "The reverse of the string is: olleh"
     ]
    }
   ],
   "source": [
    "#Ex12: Write a recursive function to print a string in reverse order\n",
    "def print_reverse(s):\n",
    "    # Base case: if the string is empty, do nothing\n",
    "    if s == \"\":\n",
    "        return 0\n",
    "    # Recursive case: print the last character and call the function on the rest of the string\n",
    "    else:\n",
    "        print(s[-1], end=\"\")  # Print the last character without a newline\n",
    "        print_reverse(s[:-1])  # Call recursively with the string minus the last character\n",
    "\n",
    "# Example usage\n",
    "s = \"hello\"\n",
    "print(\"The reverse of the string is:\", end=\" \")\n",
    "print_reverse(s)"
   ]
  },
  {
   "cell_type": "code",
   "execution_count": 37,
   "id": "eb67834f-5bf2-4598-bc0d-6c492b9b823a",
   "metadata": {},
   "outputs": [
    {
     "name": "stdout",
     "output_type": "stream",
     "text": [
      "The number of vowels in the string 'hello world' is 3\n"
     ]
    }
   ],
   "source": [
    "#Ex13: Write a recursive function to count the number of vowels in a string\n",
    "def count_vowels(s):\n",
    "    # Base case: if the string is empty, return 0\n",
    "    if s == \"\":\n",
    "        return 0\n",
    "    # Recursive case: check if the first character is a vowel\n",
    "    else:\n",
    "        vowels = \"aeiouAEIOU\"  # Define vowels\n",
    "        if s[0] in vowels:\n",
    "            return 1 + count_vowels(s[1:])  # Add 1 if the character is a vowel\n",
    "        else:\n",
    "            return count_vowels(s[1:])  # Continue with the rest of the string if not a vowel\n",
    "\n",
    "# Example usage\n",
    "s = \"hello world\"\n",
    "print(f\"The number of vowels in the string '{s}' is {count_vowels(s)}\")"
   ]
  }
 ],
 "metadata": {
  "kernelspec": {
   "display_name": "Python 3 (ipykernel)",
   "language": "python",
   "name": "python3"
  },
  "language_info": {
   "codemirror_mode": {
    "name": "ipython",
    "version": 3
   },
   "file_extension": ".py",
   "mimetype": "text/x-python",
   "name": "python",
   "nbconvert_exporter": "python",
   "pygments_lexer": "ipython3",
   "version": "3.12.7"
  }
 },
 "nbformat": 4,
 "nbformat_minor": 5
}
