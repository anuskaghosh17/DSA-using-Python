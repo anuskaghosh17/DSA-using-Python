{
 "cells": [
  {
   "cell_type": "code",
   "execution_count": 2,
   "id": "ffec34b4-5cdb-4021-82fa-063cc601a65e",
   "metadata": {},
   "outputs": [
    {
     "name": "stdout",
     "output_type": "stream",
     "text": [
      "original array: [1 2 3 4 5]\n",
      "Product array: [120, 60, 40, 30, 24]\n"
     ]
    }
   ],
   "source": [
    "import numpy as np\n",
    "import math\n",
    "x = np.array([1,2,3,4,5])\n",
    "def prod_with_div(x):\n",
    "    total_product = math.prod(x)\n",
    "    prod_arr = []\n",
    "    for i in x:\n",
    "        prod_arr.append(total_product//i)\n",
    "    return prod_arr\n",
    "print(\"original array:\",x)\n",
    "prod_arr = prod_with_div(x)\n",
    "print(\"Product array:\",prod_arr)"
   ]
  }
 ],
 "metadata": {
  "kernelspec": {
   "display_name": "Python 3 (ipykernel)",
   "language": "python",
   "name": "python3"
  },
  "language_info": {
   "codemirror_mode": {
    "name": "ipython",
    "version": 3
   },
   "file_extension": ".py",
   "mimetype": "text/x-python",
   "name": "python",
   "nbconvert_exporter": "python",
   "pygments_lexer": "ipython3",
   "version": "3.12.7"
  }
 },
 "nbformat": 4,
 "nbformat_minor": 5
}
