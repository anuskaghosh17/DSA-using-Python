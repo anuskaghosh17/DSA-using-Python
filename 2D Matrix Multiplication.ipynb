{
 "cells": [
  {
   "cell_type": "code",
   "execution_count": 1,
   "id": "3ca603db-50e9-4f78-8272-7dd408213417",
   "metadata": {},
   "outputs": [
    {
     "name": "stdout",
     "output_type": "stream",
     "text": [
      "[[ 300  360  420]\n",
      " [ 660  810  960]\n",
      " [1020 1260 1500]]\n"
     ]
    }
   ],
   "source": [
    "import numpy as np\n",
    "x1 = np.array([ [1,2,3],[4,5,6],[7,8,9] ])\n",
    "x2 = np.array([ [10,20,30],[40,50,60],[70,80,90] ])\n",
    "result = np.dot(x1,x2)\n",
    "print (result)"
   ]
  },
  {
   "cell_type": "code",
   "execution_count": null,
   "id": "7516161e-20a2-4e0c-b47d-e015b43ef3f2",
   "metadata": {},
   "outputs": [],
   "source": [
    "#do the above code using nested loop just like the addition one"
   ]
  },
  {
   "cell_type": "code",
   "execution_count": 2,
   "id": "0a2c16e4-1bf8-4d6e-a131-2abb2525896b",
   "metadata": {},
   "outputs": [
    {
     "data": {
      "text/plain": [
       "array([[1, 4],\n",
       "       [2, 5],\n",
       "       [3, 6]])"
      ]
     },
     "execution_count": 2,
     "metadata": {},
     "output_type": "execute_result"
    }
   ],
   "source": [
    "import numpy as np\n",
    "x1 = np.array([ [1,2,3],[4,5,6] ])\n",
    "result = np.transpose(x1)\n",
    "result"
   ]
  }
 ],
 "metadata": {
  "kernelspec": {
   "display_name": "Python 3 (ipykernel)",
   "language": "python",
   "name": "python3"
  },
  "language_info": {
   "codemirror_mode": {
    "name": "ipython",
    "version": 3
   },
   "file_extension": ".py",
   "mimetype": "text/x-python",
   "name": "python",
   "nbconvert_exporter": "python",
   "pygments_lexer": "ipython3",
   "version": "3.12.7"
  }
 },
 "nbformat": 4,
 "nbformat_minor": 5
}
