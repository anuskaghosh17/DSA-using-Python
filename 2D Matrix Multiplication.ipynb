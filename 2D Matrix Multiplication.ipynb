{
 "cells": [
  {
   "cell_type": "code",
   "execution_count": 1,
   "id": "3ca603db-50e9-4f78-8272-7dd408213417",
   "metadata": {},
   "outputs": [
    {
     "name": "stdout",
     "output_type": "stream",
     "text": [
      "[[ 300  360  420]\n",
      " [ 660  810  960]\n",
      " [1020 1260 1500]]\n"
     ]
    }
   ],
   "source": [
    "#Matrix Multiplication using Dot Operator\n",
    "import numpy as np\n",
    "x1 = np.array([ [1,2,3],[4,5,6],[7,8,9] ])\n",
    "x2 = np.array([ [10,20,30],[40,50,60],[70,80,90] ])\n",
    "result = np.dot(x1,x2)\n",
    "print (result)"
   ]
  },
  {
   "cell_type": "code",
   "execution_count": 3,
   "id": "7516161e-20a2-4e0c-b47d-e015b43ef3f2",
   "metadata": {},
   "outputs": [
    {
     "name": "stdout",
     "output_type": "stream",
     "text": [
      "300 360 420 \n",
      "660 810 960 \n",
      "1020 1260 1500 \n"
     ]
    }
   ],
   "source": [
    "#Matrix Multiplication using Nested Loops\n",
    "import numpy as np\n",
    "x1 = np.array([[1, 2, 3], [4, 5, 6], [7, 8, 9]])\n",
    "x2 = np.array([[10, 20, 30], [40, 50, 60], [70, 80, 90]])\n",
    "\n",
    "#Initialize an empty list for the result\n",
    "result = []\n",
    "\n",
    "#Perform matrix multiplication using nested loops\n",
    "for i in range(len(x1)):  # Loop through rows of x1\n",
    "    row = []\n",
    "    for j in range(len(x2[0])):  # Loop through columns of x2\n",
    "        sum_val = 0\n",
    "        for k in range(len(x1[0])):  # Loop through elements for multiplication\n",
    "            sum_val += x1[i][k] * x2[k][j]\n",
    "        row.append(sum_val)\n",
    "    result.append(row)\n",
    "\n",
    "# Print the result in matrix format\n",
    "for i in result:\n",
    "    for j in i:\n",
    "        print(j, end=\" \")\n",
    "    print()"
   ]
  }
 ],
 "metadata": {
  "kernelspec": {
   "display_name": "Python 3 (ipykernel)",
   "language": "python",
   "name": "python3"
  },
  "language_info": {
   "codemirror_mode": {
    "name": "ipython",
    "version": 3
   },
   "file_extension": ".py",
   "mimetype": "text/x-python",
   "name": "python",
   "nbconvert_exporter": "python",
   "pygments_lexer": "ipython3",
   "version": "3.12.7"
  }
 },
 "nbformat": 4,
 "nbformat_minor": 5
}
