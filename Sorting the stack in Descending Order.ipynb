{
 "cells": [
  {
   "cell_type": "code",
   "execution_count": 4,
   "id": "105fd9f6-5ba6-4e56-a70a-bf5e33b3a992",
   "metadata": {},
   "outputs": [
    {
     "name": "stdout",
     "output_type": "stream",
     "text": [
      "Original Stack: [3, 1, 4, 2, 5]\n",
      "Sorted Stack (Descending): [5, 4, 3, 2, 1]\n"
     ]
    }
   ],
   "source": [
    "#Implement a method to sort the stack in descending order without using built-in function sort()\n",
    "class Stack:\n",
    "    def __init__(self):\n",
    "        self.items = []\n",
    "\n",
    "    def push(self, item):\n",
    "        self.items.append(item)\n",
    "\n",
    "    def pop(self):\n",
    "        if not self.is_empty():\n",
    "            return self.items.pop()\n",
    "        return None\n",
    "\n",
    "    def peek(self):\n",
    "        if not self.is_empty():\n",
    "            return self.items[-1]\n",
    "        return None\n",
    "\n",
    "    def is_empty(self):\n",
    "        return len(self.items) == 0\n",
    "\n",
    "    def size(self):\n",
    "        return len(self.items)\n",
    "\n",
    "    def __str__(self):\n",
    "        return str(self.items)\n",
    "\n",
    "\n",
    "def sorted_insert(stack, item):\n",
    "    #Helper function to insert an element in sorted order (descending)\n",
    "    if stack.is_empty() or item <= stack.peek():  \n",
    "        stack.push(item)\n",
    "    else:\n",
    "        temp = stack.pop()\n",
    "        sorted_insert(stack, item)\n",
    "        stack.push(temp)\n",
    "\n",
    "\n",
    "def sort_stack(stack):\n",
    "    #Recursively sorts the stack in descending order\n",
    "    if not stack.is_empty():\n",
    "        temp = stack.pop()\n",
    "        sort_stack(stack)\n",
    "        sorted_insert(stack, temp)\n",
    "\n",
    "\n",
    "# Test Case Verification\n",
    "s = Stack()\n",
    "test_values = [3, 1, 4, 2, 5]\n",
    "for val in test_values:\n",
    "    s.push(val)\n",
    "\n",
    "print(\"Original Stack:\", s)\n",
    "sort_stack(s)\n",
    "print(\"Sorted Stack (Descending):\", s)\n"
   ]
  }
 ],
 "metadata": {
  "kernelspec": {
   "display_name": "Python 3 (ipykernel)",
   "language": "python",
   "name": "python3"
  },
  "language_info": {
   "codemirror_mode": {
    "name": "ipython",
    "version": 3
   },
   "file_extension": ".py",
   "mimetype": "text/x-python",
   "name": "python",
   "nbconvert_exporter": "python",
   "pygments_lexer": "ipython3",
   "version": "3.12.7"
  }
 },
 "nbformat": 4,
 "nbformat_minor": 5
}
