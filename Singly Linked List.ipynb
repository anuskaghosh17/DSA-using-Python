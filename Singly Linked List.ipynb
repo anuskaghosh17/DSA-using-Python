{
 "cells": [
  {
   "cell_type": "code",
   "execution_count": 6,
   "id": "d6f0154f-fc23-4349-9eea-958021cb0287",
   "metadata": {},
   "outputs": [
    {
     "name": "stdout",
     "output_type": "stream",
     "text": [
      "Original List:\n",
      "1 -> 2 -> 3 -> 4 -> None\n",
      "List After Deletion of 3:\n",
      "1 -> 2 -> 4 -> None\n",
      "Node with data 5 not found.\n"
     ]
    }
   ],
   "source": [
    "# Define a class for the Node\n",
    "class Node:  # in the class name, the first letter of the class name should be in capital (rule)\n",
    "    # if def is inside the class, that means it is a method not a function\n",
    "    def __init__(self, data):  # __init__ is a constructor which is a special method used for initializing newly created objects (initializer)\n",
    "        self.data = data  # data in the node\n",
    "        self.next = None  # pointer to the next node\n",
    "\n",
    "# Define a class for the LinkedList\n",
    "class LinkedList:\n",
    "    def __init__(self):\n",
    "        self.head = None  # initially, the list is empty\n",
    "\n",
    "    # Add a new node at the end\n",
    "    def append(self, data):\n",
    "        new_node = Node(data) # Node class is called here\n",
    "        if not self.head:  # If the list is empty\n",
    "            self.head = new_node # Assign the new_node(first node) to self.head\n",
    "            return\n",
    "        last = self.head\n",
    "        while last.next:  # Traverse to the last node\n",
    "            last = last.next\n",
    "        last.next = new_node  # Update the next of the last node to the new node\n",
    "\n",
    "    # Delete a node by value\n",
    "    def delete(self, key):  # key is the deletion parameter\n",
    "        # If the list is empty\n",
    "        if not self.head:\n",
    "            print(\"List is empty\")\n",
    "            return\n",
    "\n",
    "        # If the head node itself holds the key to be deleted\n",
    "        if self.head.data == key:\n",
    "            self.head = self.head.next\n",
    "            return\n",
    "\n",
    "        # Search for the key to be deleted\n",
    "        current = self.head\n",
    "        while current.next:\n",
    "            if current.next.data == key:\n",
    "                current.next = current.next.next\n",
    "                return\n",
    "            current = current.next\n",
    "\n",
    "        print(f\"Node with data {key} not found.\")\n",
    "\n",
    "    # Print the linked list\n",
    "    def print_list(self):\n",
    "        temp = self.head\n",
    "        while temp:  # Traverse through the list\n",
    "            print(temp.data, end=\" -> \")\n",
    "            temp = temp.next\n",
    "        print(\"None\")\n",
    "\n",
    "# Create a LinkedList and perform operations\n",
    "linked_list = LinkedList()\n",
    "linked_list.append(1)\n",
    "linked_list.append(2)\n",
    "linked_list.append(3)\n",
    "linked_list.append(4)\n",
    "\n",
    "# Print the linked list before deletion\n",
    "print(\"Original List:\")\n",
    "linked_list.print_list()\n",
    "\n",
    "# Delete a node (e.g., node with value 3)\n",
    "linked_list.delete(3)\n",
    "\n",
    "# Print the linked list after deletion\n",
    "print(\"List After Deletion of 3:\")\n",
    "linked_list.print_list()\n",
    "\n",
    "# Attempting to delete a node that doesn't exist\n",
    "linked_list.delete(5)\n"
   ]
  },
  {
   "cell_type": "code",
   "execution_count": null,
   "id": "f1eeae21-1fe7-4fef-9bf3-1e61256b0bab",
   "metadata": {},
   "outputs": [],
   "source": []
  }
 ],
 "metadata": {
  "kernelspec": {
   "display_name": "Python 3 (ipykernel)",
   "language": "python",
   "name": "python3"
  },
  "language_info": {
   "codemirror_mode": {
    "name": "ipython",
    "version": 3
   },
   "file_extension": ".py",
   "mimetype": "text/x-python",
   "name": "python",
   "nbconvert_exporter": "python",
   "pygments_lexer": "ipython3",
   "version": "3.12.7"
  }
 },
 "nbformat": 4,
 "nbformat_minor": 5
}
