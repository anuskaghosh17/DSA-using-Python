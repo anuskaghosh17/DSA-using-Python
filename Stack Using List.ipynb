{
 "cells": [
  {
   "cell_type": "code",
   "execution_count": 3,
   "id": "48798b96-f3ef-449c-86d5-1bebbe48917a",
   "metadata": {},
   "outputs": [
    {
     "name": "stdout",
     "output_type": "stream",
     "text": [
      "\n",
      " program to implement the stack using list\n",
      "1.push\n",
      "2.pop\n",
      "3.peek\n",
      "4.display\n",
      "5.exit\n"
     ]
    },
    {
     "name": "stdin",
     "output_type": "stream",
     "text": [
      "Enter your choice 1\n",
      "Enter the data: 10\n"
     ]
    },
    {
     "name": "stdout",
     "output_type": "stream",
     "text": [
      "\n",
      " program to implement the stack using list\n",
      "1.push\n",
      "2.pop\n",
      "3.peek\n",
      "4.display\n",
      "5.exit\n"
     ]
    },
    {
     "name": "stdin",
     "output_type": "stream",
     "text": [
      "Enter your choice 1\n",
      "Enter the data: 20\n"
     ]
    },
    {
     "name": "stdout",
     "output_type": "stream",
     "text": [
      "\n",
      " program to implement the stack using list\n",
      "1.push\n",
      "2.pop\n",
      "3.peek\n",
      "4.display\n",
      "5.exit\n"
     ]
    },
    {
     "name": "stdin",
     "output_type": "stream",
     "text": [
      "Enter your choice 1\n",
      "Enter the data: 30\n"
     ]
    },
    {
     "name": "stdout",
     "output_type": "stream",
     "text": [
      "\n",
      " program to implement the stack using list\n",
      "1.push\n",
      "2.pop\n",
      "3.peek\n",
      "4.display\n",
      "5.exit\n"
     ]
    },
    {
     "name": "stdin",
     "output_type": "stream",
     "text": [
      "Enter your choice 2\n"
     ]
    },
    {
     "name": "stdout",
     "output_type": "stream",
     "text": [
      "Popped item =  30\n",
      "\n",
      " program to implement the stack using list\n",
      "1.push\n",
      "2.pop\n",
      "3.peek\n",
      "4.display\n",
      "5.exit\n"
     ]
    },
    {
     "name": "stdin",
     "output_type": "stream",
     "text": [
      "Enter your choice 3\n"
     ]
    },
    {
     "name": "stdout",
     "output_type": "stream",
     "text": [
      "Item at the top of the stack:  20\n",
      "\n",
      " program to implement the stack using list\n",
      "1.push\n",
      "2.pop\n",
      "3.peek\n",
      "4.display\n",
      "5.exit\n"
     ]
    },
    {
     "name": "stdin",
     "output_type": "stream",
     "text": [
      "Enter your choice 4\n"
     ]
    },
    {
     "name": "stdout",
     "output_type": "stream",
     "text": [
      "\n"
     ]
    },
    {
     "ename": "IndexError",
     "evalue": "list index out of range",
     "output_type": "error",
     "traceback": [
      "\u001b[1;31m---------------------------------------------------------------------------\u001b[0m",
      "\u001b[1;31mIndexError\u001b[0m                                Traceback (most recent call last)",
      "Cell \u001b[1;32mIn[3], line 56\u001b[0m\n\u001b[0;32m     54\u001b[0m         \u001b[38;5;28mprint\u001b[39m(\u001b[38;5;124m\"\u001b[39m\u001b[38;5;124mStack underflow\u001b[39m\u001b[38;5;124m\"\u001b[39m)\n\u001b[0;32m     55\u001b[0m     \u001b[38;5;28;01melse\u001b[39;00m:\n\u001b[1;32m---> 56\u001b[0m         s\u001b[38;5;241m.\u001b[39mdisplay()\n\u001b[0;32m     58\u001b[0m \u001b[38;5;28;01melif\u001b[39;00m choice \u001b[38;5;241m==\u001b[39m \u001b[38;5;241m5\u001b[39m:\n\u001b[0;32m     59\u001b[0m     \u001b[38;5;28mprint\u001b[39m(\u001b[38;5;124m\"\u001b[39m\u001b[38;5;130;01m\\n\u001b[39;00m\u001b[38;5;124mQuitting.......\u001b[39m\u001b[38;5;124m\"\u001b[39m)\n",
      "Cell \u001b[1;32mIn[3], line 24\u001b[0m, in \u001b[0;36mStack.display\u001b[1;34m(self)\u001b[0m\n\u001b[0;32m     22\u001b[0m \u001b[38;5;28mprint\u001b[39m()\n\u001b[0;32m     23\u001b[0m \u001b[38;5;28;01mfor\u001b[39;00m i \u001b[38;5;129;01min\u001b[39;00m \u001b[38;5;28mrange\u001b[39m(top,\u001b[38;5;241m-\u001b[39m\u001b[38;5;241m1\u001b[39m,\u001b[38;5;241m-\u001b[39m\u001b[38;5;241m1\u001b[39m):\n\u001b[1;32m---> 24\u001b[0m     \u001b[38;5;28mprint\u001b[39m(\u001b[38;5;28mself\u001b[39m\u001b[38;5;241m.\u001b[39mitems[i])\n",
      "\u001b[1;31mIndexError\u001b[0m: list index out of range"
     ]
    }
   ],
   "source": [
    "class Stack:\n",
    "    def __init__(self):\n",
    "        self.items = []\n",
    "\n",
    "    def isempty(self):\n",
    "        return self.items == []\n",
    "\n",
    "    def push(self,item):\n",
    "        return self.items.append(item)\n",
    "\n",
    "    def pop(self):\n",
    "        return self.items.pop()\n",
    "\n",
    "    def peek(self):\n",
    "        return self.items[len(self.items)-1]\n",
    "\n",
    "    def size(self):\n",
    "        return len(self.items)\n",
    "\n",
    "    def display(self):\n",
    "        top = len(self.items)\n",
    "        print()\n",
    "        for i in range(top,-1,-1):\n",
    "            print(self.items[i])\n",
    "\n",
    "s = Stack()\n",
    "while(True):\n",
    "    print(\"\\n program to implement the stack using list\")\n",
    "    print(\"1.push\")\n",
    "    print(\"2.pop\")\n",
    "    print(\"3.peek\")\n",
    "    print(\"4.display\")\n",
    "    print(\"5.exit\")\n",
    "    choice = int(input(\"Enter your choice\"))\n",
    "    if choice == 1:\n",
    "        num = int(input(\"Enter the data:\"))\n",
    "        s.push(num)\n",
    "    elif choice == 2:\n",
    "        if s.isempty():\n",
    "            print(\"Stack underflow\")\n",
    "        else:\n",
    "            num = s.pop()\n",
    "            print(\"Popped item = \",num)\n",
    "\n",
    "    elif choice == 3:\n",
    "        if s.isempty():\n",
    "            print(\"Stack underflow\")\n",
    "        else:\n",
    "            num = s.peek()\n",
    "            print(\"Item at the top of the stack: \",num)\n",
    "\n",
    "    elif choice == 4:\n",
    "        if s.isempty():\n",
    "            print(\"Stack underflow\")\n",
    "        else:\n",
    "            s.display()\n",
    "\n",
    "    elif choice == 5:\n",
    "        print(\"\\nQuitting.......\")\n",
    "        break\n",
    "\n",
    "    else: \n",
    "        print(\"Invalid choice!!!!! Enter the correct choice (1-5): \")\n",
    "        continue"
   ]
  },
  {
   "cell_type": "code",
   "execution_count": null,
   "id": "0e803ebe-e0b7-49cf-8122-a80fad2cf1ed",
   "metadata": {},
   "outputs": [],
   "source": [
    "class Stack:\n",
    "    def __init__(self):\n",
    "        self.items = []  # Initialize an empty stack\n",
    "\n",
    "    def isempty(self):\n",
    "        return self.items == []  # Returns True if the stack is empty\n",
    "\n",
    "    def push(self, item):\n",
    "        self.items.append(item)  # Append item to the stack\n",
    "\n",
    "    def pop(self):\n",
    "        if self.isempty():  # Check if the stack is empty\n",
    "            print(\"Stack Underflow\")  # Print an error message if the stack is empty\n",
    "            return None  # Return None to indicate that no item was popped\n",
    "        return self.items.pop()  # Pop and return the top item from the stack\n",
    "\n",
    "    def peek(self):\n",
    "        if self.isempty():  # Check if the stack is empty\n",
    "            print(\"Stack is empty\")  # Print an error message if the stack is empty\n",
    "            return None  # Return None to indicate there is no top element\n",
    "        return self.items[len(self.items) - 1]  # Return the top item from the stack\n",
    "\n",
    "    def size(self):\n",
    "        return len(self.items)  # Return the length of the stack list\n",
    "\n",
    "    def display(self):\n",
    "        if self.isempty():  # Check if the stack is empty\n",
    "            print(\"Stack is empty\")  # Print an error message if the stack is empty\n",
    "            return  # Do not try to display anything if the stack is empty\n",
    "\n",
    "        print(\"Stack elements (from top to bottom):\")\n",
    "        top = len(self.items)\n",
    "        for i in range(top - 1, -1, -1):  # Loop through the stack from top to bottom\n",
    "            print(self.items[i])  # Print each item in the stack\n",
    "\n",
    "\n",
    "# Main program loop\n",
    "s = Stack()  # Create an instance of the Stack class\n",
    "while True:\n",
    "    print(\"\\nProgram to implement the stack using list\")  # Print the menu header\n",
    "    print(\"1. Push\")\n",
    "    print(\"2. Pop\")\n",
    "    print(\"3. Peek\")\n",
    "    print(\"4. Display\")\n",
    "    print(\"5. Exit\")\n",
    "\n",
    "    choice = int(input(\"Enter your choice: \"))  # Prompt the user for their choice\n",
    "\n",
    "    if choice == 1:  # If the user selects option 1 (Push)\n",
    "        num = int(input(\"Enter the data: \"))  # Ask for the data to push onto the stack\n",
    "        s.push(num)  # Call the push method to add the item to the stack\n",
    "\n",
    "    elif choice == 2:  # If the user selects option 2 (Pop)\n",
    "        num = s.pop()  # Call the pop method to remove and return the top item\n",
    "        if num is not None:  # Only print the popped item if it is not None (empty stack)\n",
    "            print(\"Popped item =\", num)  # Print the popped item\n",
    "\n",
    "    elif choice == 3:  # If the user selects option 3 (Peek)\n",
    "        num = s.peek()  # Call the peek method to view the top item without removing it\n",
    "        if num is not None:  # Only print the top item if it is not None (empty stack)\n",
    "            print(\"Item at the top of the stack:\", num)  # Print the top item\n",
    "\n",
    "    elif choice == 4:  # If the user selects option 4 (Display)\n",
    "        s.display()  # Call the display method to show all items in the stack\n",
    "\n",
    "    elif choice == 5:  # If the user selects option 5 (Exit)\n",
    "        print(\"\\nQuitting .......\")  # Print a quitting message\n",
    "        break  # Exit the loop and terminate the program\n",
    "\n",
    "    else:  # If the user enters an invalid choice\n",
    "        print(\"Invalid choice! Enter a correct choice (1-5):\")  # Print an error message\n",
    "        continue  # Continue the loop and prompt for a correct input"
   ]
  }
 ],
 "metadata": {
  "kernelspec": {
   "display_name": "Python 3 (ipykernel)",
   "language": "python",
   "name": "python3"
  },
  "language_info": {
   "codemirror_mode": {
    "name": "ipython",
    "version": 3
   },
   "file_extension": ".py",
   "mimetype": "text/x-python",
   "name": "python",
   "nbconvert_exporter": "python",
   "pygments_lexer": "ipython3",
   "version": "3.12.7"
  }
 },
 "nbformat": 4,
 "nbformat_minor": 5
}
