{
 "cells": [
  {
   "cell_type": "markdown",
   "id": "2b472d1f-25f7-4767-a29f-496f8a018e4b",
   "metadata": {},
   "source": [
    "**STACK IMPLEMENTATION BASED ON LIST**"
   ]
  },
  {
   "cell_type": "markdown",
   "id": "d837d59f-916d-49c2-9b53-640fc80faf31",
   "metadata": {},
   "source": [
    "**1. REVERSE A STRING USING A STACK**"
   ]
  },
  {
   "cell_type": "markdown",
   "id": "4daab6bc-de5b-45e0-a0fa-3339b4e66235",
   "metadata": {},
   "source": [
    "**• Implement a stack using a list and write a function to reverse a given string. Push\n",
    "each character of the string onto the stack, then pop each character off the stack to\n",
    "reverse the string.**"
   ]
  },
  {
   "cell_type": "code",
   "execution_count": 1,
   "id": "3164489e-dcf5-4727-ab9c-c497ac9cf44d",
   "metadata": {},
   "outputs": [
    {
     "name": "stdout",
     "output_type": "stream",
     "text": [
      "Original String: Hello, World!\n",
      "Reversed String: !dlroW ,olleH\n"
     ]
    }
   ],
   "source": [
    "class Stack:\n",
    "    def __init__(self):\n",
    "        self.items = []\n",
    "\n",
    "    def push(self, item):\n",
    "        self.items.append(item)\n",
    "\n",
    "    def pop(self):\n",
    "        if not self.is_empty():\n",
    "            return self.items.pop()\n",
    "        return None\n",
    "\n",
    "    def is_empty(self):\n",
    "        return len(self.items) == 0\n",
    "\n",
    "\n",
    "def reverse_string(string):\n",
    "    stack = Stack()\n",
    "    \n",
    "    # Push all characters of string onto the stack\n",
    "    for char in string:\n",
    "        stack.push(char)\n",
    "    \n",
    "    # Pop all characters from stack and form reversed string\n",
    "    reversed_str = \"\"\n",
    "    while not stack.is_empty():\n",
    "        reversed_str += stack.pop()\n",
    "    \n",
    "    return reversed_str\n",
    "\n",
    "\n",
    "# Example usage\n",
    "input_string = \"Hello, World!\"\n",
    "reversed_string = reverse_string(input_string)\n",
    "print(\"Original String:\", input_string)\n",
    "print(\"Reversed String:\", reversed_string)"
   ]
  },
  {
   "cell_type": "markdown",
   "id": "f1979f47-3069-4197-9eb6-e89e0c23471b",
   "metadata": {},
   "source": [
    "**2.STACK SORT ALGORITHM:**"
   ]
  },
  {
   "cell_type": "markdown",
   "id": "99e3ff1b-921f-4759-8c7a-f121ee5e902f",
   "metadata": {},
   "source": [
    "**• Implement a stack using a list and sort the elements using only stack operations\n",
    "(i.e., push, pop). You are not allowed to use any other data structures like lists,\n",
    "queues, or arrays to store intermediate elements.**"
   ]
  },
  {
   "cell_type": "code",
   "execution_count": 1,
   "id": "31ebb3c3-83ae-4736-ab85-5091b8dc10fc",
   "metadata": {},
   "outputs": [
    {
     "name": "stdout",
     "output_type": "stream",
     "text": [
      "Original Stack: [34, 3, 31, 98, 92, 23]\n",
      "Sorted Stack:   [98, 92, 34, 31, 23, 3]\n"
     ]
    }
   ],
   "source": [
    "class Stack:\n",
    "    def __init__(self):\n",
    "        self.stack = []\n",
    "\n",
    "    def push(self, item):\n",
    "        self.stack.append(item)\n",
    "\n",
    "    def pop(self):\n",
    "        if not self.is_empty():\n",
    "            return self.stack.pop()\n",
    "        return None\n",
    "\n",
    "    def peek(self):\n",
    "        if not self.is_empty():\n",
    "            return self.stack[-1]\n",
    "        return None\n",
    "\n",
    "    def is_empty(self):\n",
    "        return len(self.stack) == 0\n",
    "\n",
    "    def size(self):\n",
    "        return len(self.stack)\n",
    "\n",
    "    def __str__(self):\n",
    "        return str(self.stack)\n",
    "\n",
    "def sort_stack(stack):\n",
    "    temp_stack = Stack()\n",
    "\n",
    "    while not stack.is_empty():\n",
    "        temp = stack.pop()\n",
    "\n",
    "        while not temp_stack.is_empty() and temp_stack.peek() > temp:\n",
    "            stack.push(temp_stack.pop())\n",
    "\n",
    "        temp_stack.push(temp)\n",
    "\n",
    "    while not temp_stack.is_empty():\n",
    "        stack.push(temp_stack.pop())\n",
    "\n",
    "# Example Usage\n",
    "stack = Stack()\n",
    "elements = [34, 3, 31, 98, 92, 23]\n",
    "for elem in elements:\n",
    "    stack.push(elem)\n",
    "\n",
    "print(\"Original Stack:\", stack)\n",
    "sort_stack(stack)\n",
    "print(\"Sorted Stack:  \", stack)"
   ]
  },
  {
   "cell_type": "markdown",
   "id": "a37a173c-dabd-47af-bda7-04d911b60aa8",
   "metadata": {},
   "source": [
    "**3. IMPLEMENT A STACK FOR QUEUE OPERATIONS:**"
   ]
  },
  {
   "cell_type": "markdown",
   "id": "ce473dbc-7e01-442e-a999-e80b2f036bdd",
   "metadata": {},
   "source": [
    "**• Use two stacks (implemented with lists) to simulate the behavior of a queue.\n",
    "Implement the following operations:\n",
    "▪ enqueue(x): Add element x to the queue.\n",
    "▪ dequeue(): Remove and return the element at the front of the queue.**"
   ]
  },
  {
   "cell_type": "code",
   "execution_count": 2,
   "id": "4868711e-a868-48f4-b2e3-a2feeeee2335",
   "metadata": {},
   "outputs": [
    {
     "name": "stdout",
     "output_type": "stream",
     "text": [
      "Dequeued: 1\n",
      "Dequeued: 2\n",
      "Peek: 3\n",
      "Queue size: 2\n"
     ]
    }
   ],
   "source": [
    "class QueueUsingStacks:\n",
    "    def __init__(self):\n",
    "        self.stack_in = []  # Stack for enqueue operation\n",
    "        self.stack_out = []  # Stack for dequeue operation\n",
    "\n",
    "    def enqueue(self, x):\n",
    "        \"\"\"Add an element to the queue.\"\"\"\n",
    "        self.stack_in.append(x)\n",
    "\n",
    "    def dequeue(self):\n",
    "        \"\"\"Remove and return the front element of the queue.\"\"\"\n",
    "        if not self.stack_out:\n",
    "            # Transfer elements from stack_in to stack_out if stack_out is empty\n",
    "            while self.stack_in:\n",
    "                self.stack_out.append(self.stack_in.pop())\n",
    "\n",
    "        if not self.stack_out:  # If stack_out is still empty, queue is empty\n",
    "            return \"Queue is empty\"\n",
    "        \n",
    "        return self.stack_out.pop()\n",
    "\n",
    "    def is_empty(self):\n",
    "        \"\"\"Check if the queue is empty.\"\"\"\n",
    "        return not self.stack_in and not self.stack_out\n",
    "\n",
    "    def peek(self):\n",
    "        \"\"\"Get the front element of the queue.\"\"\"\n",
    "        if not self.stack_out:\n",
    "            while self.stack_in:\n",
    "                self.stack_out.append(self.stack_in.pop())\n",
    "\n",
    "        if not self.stack_out:\n",
    "            return \"Queue is empty\"\n",
    "\n",
    "        return self.stack_out[-1]\n",
    "\n",
    "    def size(self):\n",
    "        \"\"\"Get the number of elements in the queue.\"\"\"\n",
    "        return len(self.stack_in) + len(self.stack_out)\n",
    "\n",
    "# Example Usage\n",
    "queue = QueueUsingStacks()\n",
    "queue.enqueue(1)\n",
    "queue.enqueue(2)\n",
    "queue.enqueue(3)\n",
    "print(\"Dequeued:\", queue.dequeue())  # Output: 1\n",
    "queue.enqueue(4)\n",
    "print(\"Dequeued:\", queue.dequeue())  # Output: 2\n",
    "print(\"Peek:\", queue.peek())         # Output: 3\n",
    "print(\"Queue size:\", queue.size())   # Output: 2"
   ]
  },
  {
   "cell_type": "markdown",
   "id": "56c4f632-ce3a-454d-af6f-66bb1ee70ad9",
   "metadata": {},
   "source": [
    "**4. UNDO/REDO OPERATION WITH STACK:**"
   ]
  },
  {
   "cell_type": "markdown",
   "id": "16554d1a-d668-46bf-8b24-83fd9de7b4e5",
   "metadata": {},
   "source": [
    "**• Implement an undo/redo system using two stacks. One stack will hold the history\n",
    "of actions (for undo), and another stack will hold the actions that were undone (for\n",
    "redo). The stack should be able to support undo() and redo() operations.**"
   ]
  },
  {
   "cell_type": "code",
   "execution_count": 9,
   "id": "a90ed855-82bd-4cb9-895f-cea82d67b96e",
   "metadata": {},
   "outputs": [
    {
     "name": "stdout",
     "output_type": "stream",
     "text": [
      "Performed action: Action 1\n",
      "Performed action: Action 2\n",
      "Performed action: Action 3\n",
      "Undo Stack: ['Action 1', 'Action 2', 'Action 3']\n",
      "Redo Stack: []\n",
      "Undone action: Action 3\n",
      "Undo Stack: ['Action 1', 'Action 2']\n",
      "Redo Stack: ['Action 3']\n",
      "Redone action: Action 3\n",
      "Undo Stack: ['Action 1', 'Action 2', 'Action 3']\n",
      "Redo Stack: []\n",
      "Undone action: Action 3\n",
      "Undone action: Action 2\n",
      "Undo Stack: ['Action 1']\n",
      "Redo Stack: ['Action 3', 'Action 2']\n",
      "Redone action: Action 2\n",
      "Undo Stack: ['Action 1', 'Action 2']\n",
      "Redo Stack: ['Action 3']\n"
     ]
    }
   ],
   "source": [
    "class UndoRedoStack:\n",
    "    def __init__(self):\n",
    "        self.undo_stack = []  # List to store actions\n",
    "        self.redo_stack = []  # List to store undone actions\n",
    "\n",
    "    def perform_action(self, action):\n",
    "        # Adds an action to the undo stack and clears redo stack.\n",
    "        length = len(self.undo_stack)\n",
    "        self.undo_stack.insert(length, action)  # Insert at the end\n",
    "        self.redo_stack = []  # Reset redo stack\n",
    "        print(\"Performed action:\", action)\n",
    "\n",
    "    def undo(self):\n",
    "        # Removes the last action from undo stack and stores it in redo stack.\n",
    "        if len(self.undo_stack) == 0:\n",
    "            print(\"Nothing to undo.\")\n",
    "            return\n",
    "        last_action = self.undo_stack[len(self.undo_stack) - 1]\n",
    "        self.undo_stack = self.undo_stack[:-1]  # Remove last element\n",
    "        self.redo_stack.insert(len(self.redo_stack), last_action)  # Add to redo stack\n",
    "        print(\"Undone action:\", last_action)\n",
    "\n",
    "    def redo(self):\n",
    "        # Moves last undone action back to undo stack.\n",
    "        if len(self.redo_stack) == 0:\n",
    "            print(\"Nothing to redo.\")\n",
    "            return\n",
    "        last_redo = self.redo_stack[len(self.redo_stack) - 1]\n",
    "        self.redo_stack = self.redo_stack[:-1]  # Remove last element\n",
    "        self.undo_stack.insert(len(self.undo_stack), last_redo)  # Add back to undo stack\n",
    "        print(\"Redone action:\", last_redo)\n",
    "\n",
    "    def show_stacks(self):\n",
    "        # Displays the undo and redo stacks.\n",
    "        print(\"Undo Stack:\", self.undo_stack)\n",
    "        print(\"Redo Stack:\", self.redo_stack)\n",
    "\n",
    "# Example usage\n",
    "ur = UndoRedoStack()\n",
    "ur.perform_action(\"Action 1\")\n",
    "ur.perform_action(\"Action 2\")\n",
    "ur.perform_action(\"Action 3\")\n",
    "ur.show_stacks()\n",
    "\n",
    "ur.undo()\n",
    "ur.show_stacks()\n",
    "\n",
    "ur.redo()\n",
    "ur.show_stacks()\n",
    "\n",
    "ur.undo()\n",
    "ur.undo()\n",
    "ur.show_stacks()\n",
    "\n",
    "ur.redo()\n",
    "ur.show_stacks()"
   ]
  },
  {
   "cell_type": "markdown",
   "id": "eba0be97-61f2-454d-8bb6-90f3bea5a4de",
   "metadata": {},
   "source": [
    "**5. IMPLEMENT A STACK THAT SUPPORTS GETTING THE MIDDLE ELEMENT:**"
   ]
  },
  {
   "cell_type": "markdown",
   "id": "c29cc54c-3d16-45a3-a021-fdac699a760f",
   "metadata": {},
   "source": [
    "**• Implement a stack using a list that supports the following operations:\n",
    "o push(x): Push an element onto the stack.\n",
    "o pop(): Remove the element at the top of the stack.\n",
    "o get_middle(): Return the middle element of the stack. If the stack has an even\n",
    "number of elements, return the lower of the two middle elements.**"
   ]
  },
  {
   "cell_type": "code",
   "execution_count": 7,
   "id": "beaa88c5-8b85-420a-aefe-976ad22c6a14",
   "metadata": {},
   "outputs": [
    {
     "name": "stdout",
     "output_type": "stream",
     "text": [
      "Pushed: 1\n",
      "Pushed: 2\n",
      "Pushed: 3\n",
      "Pushed: 4\n",
      "Pushed: 5\n",
      "Stack: [1, 2, 3, 4, 5]\n",
      "Middle element: 3\n",
      "Popped: 5\n",
      "Middle element: 2\n",
      "Popped: 4\n",
      "Middle element: 2\n"
     ]
    },
    {
     "data": {
      "text/plain": [
       "2"
      ]
     },
     "execution_count": 7,
     "metadata": {},
     "output_type": "execute_result"
    }
   ],
   "source": [
    "class StackWithMiddle:\n",
    "    def __init__(self):\n",
    "        self.stack = []  # List to store stack elements\n",
    "\n",
    "    def push(self, x):\n",
    "        # Push an element onto the stack.\n",
    "        self.stack.append(x)\n",
    "        print(f\"Pushed: {x}\")\n",
    "\n",
    "    def pop(self):\n",
    "        # Remove the top element from the stack.\n",
    "        if not self.stack:\n",
    "            print(\"Stack is empty.\")\n",
    "            return None\n",
    "        popped_element = self.stack.pop()\n",
    "        print(f\"Popped: {popped_element}\")\n",
    "        return popped_element\n",
    "\n",
    "    def get_middle(self):\n",
    "        # Return the middle element of the stack.\n",
    "        if not self.stack:\n",
    "            print(\"Stack is empty.\")\n",
    "            return None\n",
    "        mid_index = (len(self.stack) - 1) // 2  # Lower middle if even\n",
    "        middle_element = self.stack[mid_index]\n",
    "        print(f\"Middle element: {middle_element}\")\n",
    "        return middle_element\n",
    "\n",
    "    def show_stack(self):\n",
    "        # Displays the current state of the stack.\n",
    "        print(\"Stack:\", self.stack)\n",
    "\n",
    "\n",
    "# Example usage\n",
    "stack = StackWithMiddle()\n",
    "stack.push(1)\n",
    "stack.push(2)\n",
    "stack.push(3)\n",
    "stack.push(4)\n",
    "stack.push(5)\n",
    "stack.show_stack()\n",
    "\n",
    "stack.get_middle()\n",
    "stack.pop()\n",
    "stack.get_middle()\n",
    "stack.pop()\n",
    "stack.get_middle()"
   ]
  },
  {
   "cell_type": "markdown",
   "id": "caa94272-6588-4b81-b792-a8740f1a37cc",
   "metadata": {},
   "source": [
    "**6. REMOVE DUPLICATES FROM A STACK:**"
   ]
  },
  {
   "cell_type": "markdown",
   "id": "00e9938c-2f62-4698-b603-77bb0ba34703",
   "metadata": {},
   "source": [
    "**• Implement a function that removes all duplicate elements from a stack. The stack\n",
    "is represented as a list, and the function should ensure the stack contains only unique\n",
    "elements in the order they first appeared.**"
   ]
  },
  {
   "cell_type": "code",
   "execution_count": 10,
   "id": "090595c5-fded-4afa-b121-638e917d1075",
   "metadata": {},
   "outputs": [
    {
     "name": "stdout",
     "output_type": "stream",
     "text": [
      "Pushed: 1\n",
      "Pushed: 2\n",
      "Pushed: 2\n",
      "Pushed: 3\n",
      "Pushed: 4\n",
      "Pushed: 4\n",
      "Pushed: 5\n",
      "Stack: [1, 2, 2, 3, 4, 4, 5]\n",
      "Duplicates removed. Updated stack: [1, 2, 3, 4, 5]\n",
      "Stack: [1, 2, 3, 4, 5]\n"
     ]
    }
   ],
   "source": [
    "class Stack:\n",
    "    def __init__(self):\n",
    "        self.stack = []  # List to store stack elements\n",
    "\n",
    "    def push(self, x):\n",
    "        # Push an element onto the stack.\n",
    "        self.stack.append(x)\n",
    "        print(f\"Pushed: {x}\")\n",
    "\n",
    "    def pop(self):\n",
    "        # Remove the top element from the stack.\n",
    "        if not self.stack:\n",
    "            print(\"Stack is empty.\")\n",
    "            return None\n",
    "        popped_element = self.stack.pop()\n",
    "        print(f\"Popped: {popped_element}\")\n",
    "        return popped_element\n",
    "\n",
    "    def remove_duplicates(self):\n",
    "        # Remove duplicate elements from the stack while maintaining order.\n",
    "        seen = set()\n",
    "        unique_stack = []\n",
    "        for item in self.stack:\n",
    "            if item not in seen:\n",
    "                seen.add(item)\n",
    "                unique_stack.append(item)\n",
    "        self.stack = unique_stack\n",
    "        print(\"Duplicates removed. Updated stack:\", self.stack)\n",
    "\n",
    "    def show_stack(self):\n",
    "        # Displays the current state of the stack.\n",
    "        print(\"Stack:\", self.stack)\n",
    "\n",
    "\n",
    "# Example usage\n",
    "stack = Stack()\n",
    "stack.push(1)\n",
    "stack.push(2)\n",
    "stack.push(2)\n",
    "stack.push(3)\n",
    "stack.push(4)\n",
    "stack.push(4)\n",
    "stack.push(5)\n",
    "stack.show_stack()\n",
    "\n",
    "stack.remove_duplicates()\n",
    "stack.show_stack()"
   ]
  },
  {
   "cell_type": "markdown",
   "id": "eda8eea9-e07c-4117-af64-948bb956fdf6",
   "metadata": {},
   "source": [
    "**7. IMPLEMENT STACK WITH TWO QUEUES:**"
   ]
  },
  {
   "cell_type": "markdown",
   "id": "9c277633-3c51-4c07-a0bc-c8b29f8d14a2",
   "metadata": {},
   "source": [
    "**• Using two queues (represented by lists), implement a stack. Implement the\n",
    "following stack operations:\n",
    "o push(x): Add element x to the stack.\n",
    "o pop(): Remove and return the top element from the stack.\n",
    "o peek(): Return the top element without removing it.\n",
    "o is_empty(): Return whether the stack is empty.**"
   ]
  },
  {
   "cell_type": "code",
   "execution_count": 12,
   "id": "95bf411a-9992-4686-9f2a-8af90a8b86b8",
   "metadata": {},
   "outputs": [
    {
     "name": "stdout",
     "output_type": "stream",
     "text": [
      "Pushed: 1\n",
      "Pushed: 2\n",
      "Pushed: 3\n",
      "Stack (top to bottom): [1, 2, 3]\n",
      "Top element: 3\n",
      "Popped: 3\n",
      "Stack (top to bottom): [1, 2]\n",
      "Popped: 2\n",
      "Popped: 1\n",
      "Is stack empty? True\n"
     ]
    }
   ],
   "source": [
    "class StackWithTwoQueues:\n",
    "    def __init__(self):\n",
    "        self.queue1 = []  # Main queue\n",
    "        self.queue2 = []  # Temporary queue\n",
    "\n",
    "    def push(self, x):\n",
    "        # Push an element onto the stack.\n",
    "        self.queue1.append(x)\n",
    "        print(\"Pushed:\", x)\n",
    "\n",
    "    def pop(self):\n",
    "        # Remove and return the top element from the stack.\n",
    "        if len(self.queue1) == 0:\n",
    "            print(\"Stack is empty.\")\n",
    "            return None\n",
    "        \n",
    "        # Move elements to queue2 except the last one\n",
    "        while len(self.queue1) > 1:\n",
    "            self.queue2.append(self.queue1[0])\n",
    "            self.queue1 = self.queue1[1:]\n",
    "        \n",
    "        # Remove and get the last element\n",
    "        popped_element = self.queue1[0]\n",
    "        self.queue1 = []\n",
    "        \n",
    "        # Move elements back to queue1\n",
    "        while len(self.queue2) > 0:\n",
    "            self.queue1.append(self.queue2[0])\n",
    "            self.queue2 = self.queue2[1:]\n",
    "        \n",
    "        print(\"Popped:\", popped_element)\n",
    "        return popped_element\n",
    "\n",
    "    def peek(self):\n",
    "        # Return the top element without removing it.\n",
    "        if len(self.queue1) == 0:\n",
    "            print(\"Stack is empty.\")\n",
    "            return None\n",
    "        \n",
    "        # Move elements to queue2 except the last one\n",
    "        while len(self.queue1) > 1:\n",
    "            self.queue2.append(self.queue1[0])\n",
    "            self.queue1 = self.queue1[1:]\n",
    "        \n",
    "        # Get the last element\n",
    "        top_element = self.queue1[0]\n",
    "        self.queue2.append(top_element)\n",
    "        self.queue1 = []\n",
    "        \n",
    "        # Move elements back to queue1\n",
    "        while len(self.queue2) > 0:\n",
    "            self.queue1.append(self.queue2[0])\n",
    "            self.queue2 = self.queue2[1:]\n",
    "        \n",
    "        print(\"Top element:\", top_element)\n",
    "        return top_element\n",
    "\n",
    "    def is_empty(self):\n",
    "        # Return whether the stack is empty.\n",
    "        return len(self.queue1) == 0\n",
    "\n",
    "    def show_stack(self):\n",
    "        # Displays the current stack state.\n",
    "        print(\"Stack (top to bottom):\", self.queue1)\n",
    "\n",
    "# Example usage\n",
    "\n",
    "stack = StackWithTwoQueues()\n",
    "stack.push(1)\n",
    "stack.push(2)\n",
    "stack.push(3)\n",
    "stack.show_stack()\n",
    "    \n",
    "stack.peek()\n",
    "stack.pop()\n",
    "stack.show_stack()\n",
    "    \n",
    "stack.pop()\n",
    "stack.pop()\n",
    "print(\"Is stack empty?\", stack.is_empty())"
   ]
  },
  {
   "cell_type": "markdown",
   "id": "b0bbe2d1-3d10-49d1-90ab-e7cecdb000cb",
   "metadata": {},
   "source": [
    "**8. CHECK IF A STACK IS PALINDROME:**"
   ]
  },
  {
   "cell_type": "markdown",
   "id": "f6d9ba39-af23-4e55-955f-ba059fe0daef",
   "metadata": {},
   "source": [
    "**• Implement a stack using a list and write a function to check whether the elements\n",
    "of a stack form a palindrome (i.e., the stack is the same when reversed).**"
   ]
  },
  {
   "cell_type": "code",
   "execution_count": 13,
   "id": "f72cd94a-5851-4e35-b72f-bdfb36757944",
   "metadata": {},
   "outputs": [
    {
     "name": "stdout",
     "output_type": "stream",
     "text": [
      "Stack: [1, 2, 3, 2, 1]\n",
      "Is palindrome? True\n",
      "Stack: [1, 2, 3, 2, 1, 4]\n",
      "Is palindrome? False\n"
     ]
    }
   ],
   "source": [
    "class Stack:\n",
    "    def __init__(self):\n",
    "        self.stack = []  # List to store stack elements\n",
    "\n",
    "    def push(self, x):\n",
    "        # Push an element onto the stack.\n",
    "        self.stack.append(x)\n",
    "\n",
    "    def pop(self):\n",
    "        # Remove the top element from the stack.\n",
    "        if not self.stack:\n",
    "            return None\n",
    "        return self.stack.pop()\n",
    "\n",
    "    def is_palindrome(self):\n",
    "        # Check if the stack is a palindrome.\n",
    "        start = 0\n",
    "        end = len(self.stack) - 1\n",
    "        \n",
    "        while start < end:\n",
    "            if self.stack[start] != self.stack[end]:\n",
    "                return False\n",
    "            start += 1\n",
    "            end -= 1\n",
    "        \n",
    "        return True\n",
    "\n",
    "    def show_stack(self):\n",
    "        # Displays the current stack state.\n",
    "        print(\"Stack:\", self.stack)\n",
    "\n",
    "\n",
    "# Example usage\n",
    "stack = Stack()\n",
    "stack.push(1)\n",
    "stack.push(2)\n",
    "stack.push(3)\n",
    "stack.push(2)\n",
    "stack.push(1)\n",
    "stack.show_stack()\n",
    "    \n",
    "print(\"Is palindrome?\", stack.is_palindrome())\n",
    "    \n",
    "stack.push(4)\n",
    "stack.show_stack()\n",
    "    \n",
    "print(\"Is palindrome?\", stack.is_palindrome())"
   ]
  },
  {
   "cell_type": "markdown",
   "id": "abf6304d-38ac-42a8-b912-0dd42a56d6f4",
   "metadata": {},
   "source": [
    "**9. NEXT GREATER ELEMENT USING STACK:**"
   ]
  },
  {
   "cell_type": "markdown",
   "id": "bbffdfb2-64a8-41b8-81e9-7caeec1bd415",
   "metadata": {},
   "source": [
    "**• Given a list of numbers, implement a stack to find the next greater element for each\n",
    "element in the list. For each element, find the nearest greater element that appears\n",
    "later in the list. If no greater element exists, return -1.**"
   ]
  },
  {
   "cell_type": "code",
   "execution_count": 14,
   "id": "33a27618-6118-44e3-a583-74316b9fa81d",
   "metadata": {},
   "outputs": [
    {
     "name": "stdout",
     "output_type": "stream",
     "text": [
      "Next Greater Elements: [5, 10, 10, -1, -1]\n"
     ]
    }
   ],
   "source": [
    "class NextGreaterElement:\n",
    "    def __init__(self, nums):\n",
    "        self.nums = nums  # List of numbers\n",
    "\n",
    "    def find_next_greater(self):\n",
    "        # Finds the next greater element for each element in the list.\n",
    "        stack = []  # Stack to keep track of elements\n",
    "        result = [-1] * len(self.nums)  # Initialize result array with -1\n",
    "\n",
    "        for i in range(len(self.nums) - 1, -1, -1):  # Traverse from right to left\n",
    "            while stack and stack[-1] <= self.nums[i]:\n",
    "                stack.pop()  # Remove smaller elements\n",
    "            \n",
    "            if stack:\n",
    "                result[i] = stack[-1]  # Assign next greater element\n",
    "            \n",
    "            stack.append(self.nums[i])  # Push current element onto stack\n",
    "        \n",
    "        return result\n",
    "\n",
    "# Example usage\n",
    "\n",
    "nums = [4, 5, 2, 10, 8]\n",
    "nge = NextGreaterElement(nums)\n",
    "print(\"Next Greater Elements:\", nge.find_next_greater())"
   ]
  },
  {
   "cell_type": "markdown",
   "id": "c0c47a54-4dcb-4ff1-b6b7-97d3d62d6c86",
   "metadata": {},
   "source": [
    "**10. REVERSE A QUEUE USING A STACK:**"
   ]
  },
  {
   "cell_type": "markdown",
   "id": "e07bf982-b5c8-4809-bc91-b273843de1f5",
   "metadata": {},
   "source": [
    "**• Given a queue, implement a stack to reverse the queue using only stack operations\n",
    "(push, pop). You cannot use any other additional data structures for storing\n",
    "intermediate elements.**"
   ]
  },
  {
   "cell_type": "code",
   "execution_count": 15,
   "id": "7a39445f-c971-40a8-8110-73b3c90a92e1",
   "metadata": {},
   "outputs": [
    {
     "name": "stdout",
     "output_type": "stream",
     "text": [
      "Queue: [1, 2, 3, 4, 5]\n",
      "Queue: [5, 4, 3, 2, 1]\n"
     ]
    }
   ],
   "source": [
    "class Queue:\n",
    "    def __init__(self):\n",
    "        self.queue = []  # List to store queue elements\n",
    "\n",
    "    def enqueue(self, x):\n",
    "        # Add an element to the queue.\n",
    "        self.queue.append(x)\n",
    "\n",
    "    def dequeue(self):\n",
    "        # Remove and return the front element from the queue.\n",
    "        if self.is_empty():\n",
    "            return None\n",
    "        front = self.queue[0]\n",
    "        self.queue = self.queue[1:]  # Shift elements to simulate queue behavior\n",
    "        return front\n",
    "\n",
    "    def is_empty(self):\n",
    "        # Check if the queue is empty.\n",
    "        return len(self.queue) == 0\n",
    "\n",
    "    def show_queue(self):\n",
    "        # Displays the current queue state.\n",
    "        print(\"Queue:\", self.queue)\n",
    "\n",
    "\n",
    "class Stack:\n",
    "    def __init__(self):\n",
    "        self.stack = []  # List to store stack elements\n",
    "\n",
    "    def push(self, x):\n",
    "        # Push an element onto the stack.\n",
    "        self.stack.append(x)\n",
    "\n",
    "    def pop(self):\n",
    "        # Remove and return the top element from the stack.\n",
    "        if self.is_empty():\n",
    "            return None\n",
    "        return self.stack.pop()\n",
    "\n",
    "    def is_empty(self):\n",
    "        # Check if the stack is empty.\n",
    "        return len(self.stack) == 0\n",
    "\n",
    "\n",
    "def reverse_queue(queue):\n",
    "    # Reverse a queue using a stack.\n",
    "    stack = Stack()\n",
    "    \n",
    "    # Dequeue all elements from the queue and push them onto the stack\n",
    "    while not queue.is_empty():\n",
    "        stack.push(queue.dequeue())\n",
    "    \n",
    "    # Pop all elements from the stack and enqueue them back to the queue\n",
    "    while not stack.is_empty():\n",
    "        queue.enqueue(stack.pop())\n",
    "\n",
    "\n",
    "# Example usage\n",
    "queue = Queue()\n",
    "queue.enqueue(1)\n",
    "queue.enqueue(2)\n",
    "queue.enqueue(3)\n",
    "queue.enqueue(4)\n",
    "queue.enqueue(5)\n",
    "queue.show_queue()\n",
    "    \n",
    "reverse_queue(queue)\n",
    "queue.show_queue()"
   ]
  },
  {
   "cell_type": "markdown",
   "id": "35feda03-ea45-4f7c-be9e-48b583b4e457",
   "metadata": {},
   "source": [
    "**11. REMOVE ALL ELEMENTS LESS THAN X:**"
   ]
  },
  {
   "cell_type": "markdown",
   "id": "cbc5f342-a100-40fe-b987-719c198513f7",
   "metadata": {},
   "source": [
    "**• Implement a stack using a list and write a function that removes all elements less\n",
    "than a given number X from the stack. After removing the elements, return the\n",
    "modified stack.**"
   ]
  },
  {
   "cell_type": "code",
   "execution_count": 17,
   "id": "03961752-8482-43e2-ba43-e776afd21601",
   "metadata": {},
   "outputs": [
    {
     "name": "stdout",
     "output_type": "stream",
     "text": [
      "Stack: [5, 2, 9, 1, 6]\n",
      "Stack: [5, 9, 6]\n"
     ]
    }
   ],
   "source": [
    "class Stack:\n",
    "    def __init__(self):\n",
    "        self.stack = []  # List to store stack elements\n",
    "\n",
    "    def push(self, x):\n",
    "        # Push an element onto the stack.\n",
    "        self.stack.append(x)\n",
    "\n",
    "    def pop(self):\n",
    "        # Remove and return the top element from the stack.\n",
    "        if self.is_empty():\n",
    "            return None\n",
    "        return self.stack.pop()\n",
    "\n",
    "    def is_empty(self):\n",
    "        # Check if the stack is empty.\n",
    "        return len(self.stack) == 0\n",
    "\n",
    "    def remove_less_than_x(self, x):\n",
    "        # Remove all elements less than x from the stack.\n",
    "        temp_stack = []  # Temporary stack to hold valid elements\n",
    "        \n",
    "        while not self.is_empty():\n",
    "            value = self.pop()\n",
    "            if value >= x:\n",
    "                temp_stack.append(value)\n",
    "        \n",
    "        while temp_stack:\n",
    "            self.push(temp_stack.pop())  # Restore valid elements back to stack\n",
    "        \n",
    "    def show_stack(self):\n",
    "        # Displays the current stack state.\n",
    "        print(\"Stack:\", self.stack)\n",
    "\n",
    "# Example usage\n",
    "stack = Stack()\n",
    "stack.push(5)\n",
    "stack.push(2)\n",
    "stack.push(9)\n",
    "stack.push(1)\n",
    "stack.push(6)\n",
    "stack.show_stack()\n",
    "    \n",
    "stack.remove_less_than_x(5)\n",
    "stack.show_stack()"
   ]
  }
 ],
 "metadata": {
  "kernelspec": {
   "display_name": "Python 3 (ipykernel)",
   "language": "python",
   "name": "python3"
  },
  "language_info": {
   "codemirror_mode": {
    "name": "ipython",
    "version": 3
   },
   "file_extension": ".py",
   "mimetype": "text/x-python",
   "name": "python",
   "nbconvert_exporter": "python",
   "pygments_lexer": "ipython3",
   "version": "3.12.7"
  }
 },
 "nbformat": 4,
 "nbformat_minor": 5
}
