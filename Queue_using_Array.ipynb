{
 "cells": [
  {
   "cell_type": "code",
   "execution_count": 1,
   "id": "7fc9be02-c011-446d-9de8-9f13d84f6d52",
   "metadata": {},
   "outputs": [
    {
     "ename": "SyntaxError",
     "evalue": "incomplete input (1622755756.py, line 3)",
     "output_type": "error",
     "traceback": [
      "\u001b[1;36m  Cell \u001b[1;32mIn[1], line 3\u001b[1;36m\u001b[0m\n\u001b[1;33m    class Queue:\u001b[0m\n\u001b[1;37m                ^\u001b[0m\n\u001b[1;31mSyntaxError\u001b[0m\u001b[1;31m:\u001b[0m incomplete input\n"
     ]
    }
   ],
   "source": [
    "import numpy as np\n",
    "\n",
    "class Queue:\n",
    "    def __init__(self,size):\n",
    "        self.front = -1\n",
    "        self.rear = -1\n",
    "        self.size = size\n",
    "        self.arr = np.empty(size,dtype = int)\n",
    "\n",
    "    def isempty(self):\n",
    "        return self.front == -1\n",
    "\n",
    "    def arr_size(self):\n",
    "        return len(self.arr)\n",
    "\n",
    "    def isfull(self):\n",
    "        return self.rear == self.size - 1\n",
    "\n",
    "    def peek(self):\n",
    "        return self.arr[self.front]\n",
    "\n",
    "    def enqueue(self,item):\n",
    "        if self.isfull():\n",
    "            print(\"Queue is full!\")\n",
    "        else:\n",
    "            if self.front == -1:\n",
    "                self.front = 0\n",
    "            self.rear += 1\n",
    "            self.arr[self.rear] = item\n",
    "            print(f\"{item} added to the queue\")\n",
    "\n",
    "    def dequeue(self):\n",
    "        if self.isempty():\n",
    "            print(\"Queue is empty!\")\n",
    "        else:\n",
    "            dequeue_item = self.arr[self.front]\n",
    "            if self.front == self.rear:\n",
    "                self.front = self.rear = -1\n",
    "            else:\n",
    "                self.front += 1\n",
    "            return dequeue_item\n",
    "            print(f\"{dequeue_item} is removed from queue!\")\n",
    "\n",
    "    def display(self):\n",
    "        if self.isempty():\n",
    "            print(\"Queue is empty!\")\n",
    "        else:\n",
    "            print(\"Queue elements.......\")\n",
    "            for i in range(self.front,self.rear + 1):\n",
    "                print(self.arr[i], end=\" \")\n",
    "            print()\n",
    "\n",
    "size = int(input(\"Enter the size of array\"))\n",
    "q = Queue(size)\n",
    "\n",
    "while(True):\n",
    "    print(\"Program to implement the queue using array\")\n",
    "    print(\"1.Enqueue\")\n",
    "    print(\"2.Dequeue\")\n",
    "    print(\"3.Peek\")\n",
    "    print(\"4.Display\")\n",
    "    print(\"5.Exit\")\n",
    "    choice = int(input(\"Enter your choice:\"))\n",
    "    if choice == 1:\n",
    "        if q.isfull():\n",
    "            print(\"Queue is full!!!\")\n",
    "        else:\n",
    "            num = int(input(\"Enter the data:\"))\n",
    "            q.enqueue(num)\n",
    "    elif choice == 2:\n",
    "        if q.isempty():\n",
    "            print(\"Queue is empty!!!\")\n",
    "        else:\n",
    "            num = q.dequeue\n",
    "            \n",
    "            \n",
    "                "
   ]
  },
  {
   "cell_type": "code",
   "execution_count": null,
   "id": "f4a2d702-998a-4681-8a1e-f1817fc9c923",
   "metadata": {},
   "outputs": [],
   "source": []
  }
 ],
 "metadata": {
  "kernelspec": {
   "display_name": "Python 3 (ipykernel)",
   "language": "python",
   "name": "python3"
  },
  "language_info": {
   "codemirror_mode": {
    "name": "ipython",
    "version": 3
   },
   "file_extension": ".py",
   "mimetype": "text/x-python",
   "name": "python",
   "nbconvert_exporter": "python",
   "pygments_lexer": "ipython3",
   "version": "3.12.7"
  }
 },
 "nbformat": 4,
 "nbformat_minor": 5
}
