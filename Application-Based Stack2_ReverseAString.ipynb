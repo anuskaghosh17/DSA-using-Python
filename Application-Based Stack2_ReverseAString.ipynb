{
 "cells": [
  {
   "cell_type": "code",
   "execution_count": 1,
   "id": "4227f241-6710-4d82-ae54-dcb1e78499dd",
   "metadata": {},
   "outputs": [
    {
     "name": "stdout",
     "output_type": "stream",
     "text": [
      "Reversed String: yeknom\n"
     ]
    }
   ],
   "source": [
    "# Program to reverse a string of character x = monkey using stack\n",
    "class Stack:\n",
    "    def __init__(self):\n",
    "        self.stack = []\n",
    "    \n",
    "    def push(self, char):\n",
    "        self.stack.append(char)\n",
    "    \n",
    "    def pop(self):\n",
    "        if not self.is_empty():\n",
    "            return self.stack.pop()\n",
    "        return None\n",
    "    \n",
    "    def is_empty(self):\n",
    "        return len(self.stack) == 0\n",
    "\n",
    "def reverse_string_using_stack(input_string):\n",
    "    stack = Stack()\n",
    "\n",
    "    # Step 1: Push each character onto the stack\n",
    "    for char in input_string:\n",
    "        stack.push(char)\n",
    "    \n",
    "    reversed_string = \"\"\n",
    "\n",
    "    # Step 2: Pop each character and form the reversed string\n",
    "    while not stack.is_empty():\n",
    "        reversed_string += stack.pop()\n",
    "    \n",
    "    return reversed_string\n",
    "\n",
    "# Example usage\n",
    "input_string = \"monkey\"\n",
    "reversed_string = reverse_string_using_stack(input_string)\n",
    "print(\"Reversed String:\", reversed_string)"
   ]
  },
  {
   "cell_type": "code",
   "execution_count": null,
   "id": "73bcedfc-239e-4c6e-8094-ff7304682033",
   "metadata": {},
   "outputs": [],
   "source": []
  }
 ],
 "metadata": {
  "kernelspec": {
   "display_name": "Python 3 (ipykernel)",
   "language": "python",
   "name": "python3"
  },
  "language_info": {
   "codemirror_mode": {
    "name": "ipython",
    "version": 3
   },
   "file_extension": ".py",
   "mimetype": "text/x-python",
   "name": "python",
   "nbconvert_exporter": "python",
   "pygments_lexer": "ipython3",
   "version": "3.12.7"
  }
 },
 "nbformat": 4,
 "nbformat_minor": 5
}
