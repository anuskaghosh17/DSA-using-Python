{
 "cells": [
  {
   "cell_type": "code",
   "execution_count": 1,
   "id": "0f4ccdc1-dfda-433e-9a34-142feef9fea7",
   "metadata": {},
   "outputs": [
    {
     "name": "stdout",
     "output_type": "stream",
     "text": [
      "[[1 4]\n",
      " [2 5]\n",
      " [3 6]]\n"
     ]
    }
   ],
   "source": [
    "#Transpose of the matrix using Transpose Operator\n",
    "import numpy as np\n",
    "x1 = np.array([ [1 ,2 ,3], [4, 5, 6] ])\n",
    "result = np.transpose(x1)\n",
    "print(result)"
   ]
  },
  {
   "cell_type": "code",
   "execution_count": 2,
   "id": "54d6e985-d454-4bf8-af10-bc99b630bc24",
   "metadata": {},
   "outputs": [
    {
     "name": "stdout",
     "output_type": "stream",
     "text": [
      "1 4 \n",
      "2 5 \n",
      "3 6 \n"
     ]
    }
   ],
   "source": [
    "#Transpose of the matrix using nested loops\n",
    "import numpy as np\n",
    "x1 = np.array([ [1, 2, 3], [4, 5, 6] ])\n",
    "\n",
    "# Initialize an empty list for the transposed matrix\n",
    "transpose = []\n",
    "\n",
    "# Perform the transpose operation using nested loops\n",
    "for i in range(len(x1[0])):  # Loop through columns of x1\n",
    "    row = []\n",
    "    for j in range(len(x1)):  # Loop through rows of x1\n",
    "        row.append(x1[j][i])  # Swap rows and columns\n",
    "    transpose.append(row)\n",
    "\n",
    "# Print the transposed matrix\n",
    "for i in transpose:\n",
    "    for j in i:\n",
    "        print(j, end=\" \")\n",
    "    print()"
   ]
  }
 ],
 "metadata": {
  "kernelspec": {
   "display_name": "Python 3 (ipykernel)",
   "language": "python",
   "name": "python3"
  },
  "language_info": {
   "codemirror_mode": {
    "name": "ipython",
    "version": 3
   },
   "file_extension": ".py",
   "mimetype": "text/x-python",
   "name": "python",
   "nbconvert_exporter": "python",
   "pygments_lexer": "ipython3",
   "version": "3.12.7"
  }
 },
 "nbformat": 4,
 "nbformat_minor": 5
}
