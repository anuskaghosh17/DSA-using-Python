{
 "cells": [
  {
   "cell_type": "code",
   "execution_count": null,
   "id": "2d0736d7-e729-49f7-94e9-7ac76d1db9c3",
   "metadata": {},
   "outputs": [],
   "source": [
    "#write a program that takes a list of tuples and sorts the list of tuples in increasing order by the last element in each tuple\n",
    "x = list(map(int,input().split()))\n",
    "y "
   ]
  },
  {
   "cell_type": "code",
   "execution_count": 1,
   "id": "71695d6f-d661-4edd-ade7-132bc64d3a6a",
   "metadata": {},
   "outputs": [
    {
     "data": {
      "text/plain": [
       "7"
      ]
     },
     "execution_count": 1,
     "metadata": {},
     "output_type": "execute_result"
    }
   ],
   "source": [
    "def simple_gcd(m,n):\n",
    "    fm = []\n",
    "    for i in range(1,m+1):\n",
    "        if m%i == 0:\n",
    "            fm.append(i)\n",
    "    fn = []\n",
    "    for j in range(1,n+1):\n",
    "        if n%j == 0:\n",
    "            fn.append(j)\n",
    "    cf = []\n",
    "    for k in fm:\n",
    "        if k in fn:\n",
    "            cf.append(k)\n",
    "    return(cf[-1])\n",
    "simple_gcd(14,63)"
   ]
  },
  {
   "cell_type": "code",
   "execution_count": 2,
   "id": "1f306da3-cc3c-4928-93ba-65be8264455a",
   "metadata": {},
   "outputs": [
    {
     "data": {
      "text/plain": [
       "7"
      ]
     },
     "execution_count": 2,
     "metadata": {},
     "output_type": "execute_result"
    }
   ],
   "source": [
    "def simple_gcd(m, n):\n",
    "    fm = []  # Factors of m\n",
    "    fn = []  # Factors of n\n",
    "    max_value = max(m, n)  # Find the larger of m and n\n",
    "\n",
    "    # Scan from 1 to max(m, n)\n",
    "    for i in range(1, max_value + 1):\n",
    "        if i <= m and m % i == 0:  # If i divides m, add to fm\n",
    "            fm.append(i)\n",
    "        if i <= n and n % i == 0:  # If i divides n, add to fn\n",
    "            fn.append(i)\n",
    "\n",
    "    # Find common factors\n",
    "    cf = []\n",
    "    for k in fm:\n",
    "        if k in fn:\n",
    "            cf.append(k)\n",
    "    return cf[-1]  # Return the largest common factor (GCD)\n",
    "\n",
    "# Example usage\n",
    "simple_gcd(14, 63)"
   ]
  },
  {
   "cell_type": "code",
   "execution_count": 5,
   "id": "7ac754ed-aa78-4e76-ad23-29295aacbc5f",
   "metadata": {},
   "outputs": [
    {
     "data": {
      "text/plain": [
       "7"
      ]
     },
     "execution_count": 5,
     "metadata": {},
     "output_type": "execute_result"
    }
   ],
   "source": [
    "#a shorter python program\n",
    "def simple_gcd(m,n):\n",
    "    cf = []\n",
    "    for i in range(1, min(m,n)+1):\n",
    "        if (m%i) == 0 and (n%i) == 0:\n",
    "            cf.append(i)\n",
    "    return(cf[-1])\n",
    "simple_gcd(14,63)"
   ]
  },
  {
   "cell_type": "code",
   "execution_count": 6,
   "id": "424274c3-55cf-4cb8-bf5d-7c782d7590ce",
   "metadata": {},
   "outputs": [
    {
     "data": {
      "text/plain": [
       "7"
      ]
     },
     "execution_count": 6,
     "metadata": {},
     "output_type": "execute_result"
    }
   ],
   "source": [
    "#no lists!\n",
    "def simple_gcd(m,n):\n",
    "    for i in range(1,min(m,n)+1):\n",
    "        if (m%i) == 0 and (n%i) == 0:\n",
    "            mrcf = i\n",
    "    return (mrcf)\n",
    "simple_gcd(14,63)"
   ]
  },
  {
   "cell_type": "code",
   "execution_count": 2,
   "id": "4c701016-91cf-4c35-9af7-03ffb7f12019",
   "metadata": {},
   "outputs": [
    {
     "data": {
      "text/plain": [
       "7"
      ]
     },
     "execution_count": 2,
     "metadata": {},
     "output_type": "execute_result"
    }
   ],
   "source": [
    "#no lists! scan backwards using for loop\n",
    "def simple_gcd(m,n):\n",
    "    for i in range(min(m,n),1,-1):\n",
    "        if (m%i) == 0 and (n%i) == 0:\n",
    "            break\n",
    "    return (i)\n",
    "simple_gcd(14,63)"
   ]
  },
  {
   "cell_type": "code",
   "execution_count": 3,
   "id": "5e13383d-b29e-49d1-865b-e44713745a2b",
   "metadata": {},
   "outputs": [
    {
     "data": {
      "text/plain": [
       "7"
      ]
     },
     "execution_count": 3,
     "metadata": {},
     "output_type": "execute_result"
    }
   ],
   "source": [
    "#no lists! scan backwards using while loop\n",
    "def simple_gcd(m,n):\n",
    "    i = min(m,n)\n",
    "    while i > 0:\n",
    "        if (m%i) == 0 and (n%i) == 0:\n",
    "            return (i)\n",
    "        else:\n",
    "            i = i - 1\n",
    "simple_gcd(14,63)"
   ]
  },
  {
   "cell_type": "code",
   "execution_count": 14,
   "id": "52b7e09c-7602-4055-aea5-827e661f7b5d",
   "metadata": {},
   "outputs": [
    {
     "data": {
      "text/plain": [
       "3"
      ]
     },
     "execution_count": 14,
     "metadata": {},
     "output_type": "execute_result"
    }
   ],
   "source": [
    "def euclid_gcd(m,n):\n",
    "    while n!=0 :\n",
    "        m, n = n, m%n\n",
    "    return m\n",
    "euclid_gcd(12,33)\n",
    "#Initially, m = 12 and n = 33.\n",
    "#First iteration: m, n = 33, 12 (since 33 % 12 = 9).\n",
    "#Second iteration: m, n = 12, 9 (since 12 % 9 = 3).\n",
    "#Third iteration: m, n = 9, 3 (since 9 % 3 = 0).\n",
    "#Fourth iteration: m, n = 3, 0\n",
    "#Since n is now 0, the loop stops, and the function returns m, which is 3."
   ]
  },
  {
   "cell_type": "code",
   "execution_count": null,
   "id": "7fb32d38-891c-495a-aa94-326b9aa13ff6",
   "metadata": {},
   "outputs": [],
   "source": [
    "#Find the sum and average of array elements\n",
    "#Write a python function that calculates and returns the sum and the average of the elements in an array\n",
    "#Hint: Use Built-in function sum(),len()"
   ]
  },
  {
   "cell_type": "code",
   "execution_count": null,
   "id": "60caf7b8-88aa-4651-bba6-2ca21d38c6b0",
   "metadata": {},
   "outputs": [],
   "source": [
    "#Reverse an array\n",
    "#Reverse an array without using built-in function\n",
    "#Hint: Either use slicing or a loop"
   ]
  }
 ],
 "metadata": {
  "kernelspec": {
   "display_name": "Python 3 (ipykernel)",
   "language": "python",
   "name": "python3"
  },
  "language_info": {
   "codemirror_mode": {
    "name": "ipython",
    "version": 3
   },
   "file_extension": ".py",
   "mimetype": "text/x-python",
   "name": "python",
   "nbconvert_exporter": "python",
   "pygments_lexer": "ipython3",
   "version": "3.12.7"
  }
 },
 "nbformat": 4,
 "nbformat_minor": 5
}
