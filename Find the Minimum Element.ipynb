{
 "cells": [
  {
   "cell_type": "code",
   "execution_count": 2,
   "id": "100058da-a9ce-4d35-ac8a-9a8bcfc934d2",
   "metadata": {},
   "outputs": [
    {
     "name": "stdout",
     "output_type": "stream",
     "text": [
      "Stack: [3, 5, 2, 1, 4]\n",
      "Minimum Element: 1\n"
     ]
    }
   ],
   "source": [
    "#Implement a method that finds the minimum element in a stack\n",
    "class Stack:\n",
    "    def __init__(self):\n",
    "        self.items = []\n",
    "\n",
    "    def push(self, item):\n",
    "        self.items.append(item)\n",
    "\n",
    "    def pop(self):\n",
    "        if not self.is_empty():\n",
    "            return self.items.pop()\n",
    "        return None\n",
    "\n",
    "    def peek(self):\n",
    "        if not self.is_empty():\n",
    "            return self.items[-1]\n",
    "        return None\n",
    "\n",
    "    def is_empty(self):\n",
    "        return len(self.items) == 0\n",
    "\n",
    "    def size(self):\n",
    "        return len(self.items)\n",
    "\n",
    "    def get_min(self):\n",
    "        #Finds the minimum element in O(n) time\n",
    "        if self.is_empty():\n",
    "            return None\n",
    "        return min(self.items)  # Traverses the stack to find the minimum\n",
    "\n",
    "    def __str__(self):\n",
    "        return str(self.items)\n",
    "\n",
    "\n",
    "# Example usage\n",
    "s = Stack()\n",
    "s.push(3)\n",
    "s.push(5)\n",
    "s.push(2)\n",
    "s.push(1)\n",
    "s.push(4)\n",
    "\n",
    "print(\"Stack:\", s)\n",
    "print(\"Minimum Element:\", s.get_min())\n"
   ]
  }
 ],
 "metadata": {
  "kernelspec": {
   "display_name": "Python 3 (ipykernel)",
   "language": "python",
   "name": "python3"
  },
  "language_info": {
   "codemirror_mode": {
    "name": "ipython",
    "version": 3
   },
   "file_extension": ".py",
   "mimetype": "text/x-python",
   "name": "python",
   "nbconvert_exporter": "python",
   "pygments_lexer": "ipython3",
   "version": "3.12.7"
  }
 },
 "nbformat": 4,
 "nbformat_minor": 5
}
