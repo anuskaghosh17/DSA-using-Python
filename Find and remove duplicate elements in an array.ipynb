{
 "cells": [
  {
   "cell_type": "code",
   "execution_count": 1,
   "id": "bddbab1e-c509-4adb-af57-b4e93683c27b",
   "metadata": {},
   "outputs": [
    {
     "name": "stdout",
     "output_type": "stream",
     "text": [
      "<class 'numpy.ndarray'>\n",
      "[ 10  20  30  40  50   0 100]\n"
     ]
    }
   ],
   "source": [
    "import numpy as np\n",
    "x = np.array([10,20,30,40,50,10,0,30,100])\n",
    "def r_dup(x):\n",
    "    new_arr = []\n",
    "    for i in x:\n",
    "        if i not in new_arr:\n",
    "            new_arr.append(i)\n",
    "    return np.array(new_arr)\n",
    "result = r_dup(x)\n",
    "print(type(result))\n",
    "print(result)"
   ]
  }
 ],
 "metadata": {
  "kernelspec": {
   "display_name": "Python 3 (ipykernel)",
   "language": "python",
   "name": "python3"
  },
  "language_info": {
   "codemirror_mode": {
    "name": "ipython",
    "version": 3
   },
   "file_extension": ".py",
   "mimetype": "text/x-python",
   "name": "python",
   "nbconvert_exporter": "python",
   "pygments_lexer": "ipython3",
   "version": "3.12.7"
  }
 },
 "nbformat": 4,
 "nbformat_minor": 5
}
