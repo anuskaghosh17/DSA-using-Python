{
 "cells": [
  {
   "cell_type": "code",
   "execution_count": 1,
   "id": "2b42ae1d-2aec-441f-9516-1656daedaaa3",
   "metadata": {},
   "outputs": [
    {
     "name": "stdout",
     "output_type": "stream",
     "text": [
      "The largest difference is: 8\n"
     ]
    }
   ],
   "source": [
    "import sys\n",
    "\n",
    "# Initialize the list of elements\n",
    "arr = [2, 3, 10, 6, 4, 8, 1]\n",
    "\n",
    "# Initialize min_val to the largest possible integer value\n",
    "min_val = sys.maxsize\n",
    "max_diff = 0\n",
    "\n",
    "# Traverse the list only once\n",
    "for x in arr:\n",
    "    # Update min_val to the smallest element seen so far\n",
    "    min_val = min(min_val, x)\n",
    "    # Calculate the difference and update max_diff\n",
    "    max_diff = max(max_diff, x - min_val)\n",
    "\n",
    "# Print the largest difference\n",
    "print(\"The largest difference is:\", max_diff)"
   ]
  }
 ],
 "metadata": {
  "kernelspec": {
   "display_name": "Python 3 (ipykernel)",
   "language": "python",
   "name": "python3"
  },
  "language_info": {
   "codemirror_mode": {
    "name": "ipython",
    "version": 3
   },
   "file_extension": ".py",
   "mimetype": "text/x-python",
   "name": "python",
   "nbconvert_exporter": "python",
   "pygments_lexer": "ipython3",
   "version": "3.12.7"
  }
 },
 "nbformat": 4,
 "nbformat_minor": 5
}
