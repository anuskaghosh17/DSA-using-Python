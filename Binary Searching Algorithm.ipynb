{
 "cells": [
  {
   "cell_type": "code",
   "execution_count": 1,
   "id": "f6013655-661a-4d97-b652-dd4f7d9a05f2",
   "metadata": {},
   "outputs": [
    {
     "name": "stdin",
     "output_type": "stream",
     "text": [
      " 50\n"
     ]
    },
    {
     "name": "stdout",
     "output_type": "stream",
     "text": [
      "Element is found at index 4\n"
     ]
    }
   ],
   "source": [
    "import numpy as np\n",
    "x = np.array([10,20,30,40,50,60])\n",
    "target = int(input())\n",
    "def binary_search(x,target):\n",
    "    n = len(x)\n",
    "    low = 0\n",
    "    high = n - 1\n",
    "    while low <= high:\n",
    "        mid_point = (low + high) // 2\n",
    "        if x[mid_point] == target:\n",
    "            return mid_point\n",
    "        elif x[mid_point] < target:\n",
    "            low = mid_point + 1\n",
    "        else: \n",
    "            high = mid_point - 1\n",
    "    return -1\n",
    "result = binary_search(x,target)\n",
    "if result != -1:\n",
    "    print(f\"Element is found at index {result}\")\n",
    "else:\n",
    "    print(\"Element is not found\")"
   ]
  }
 ],
 "metadata": {
  "kernelspec": {
   "display_name": "Python 3 (ipykernel)",
   "language": "python",
   "name": "python3"
  },
  "language_info": {
   "codemirror_mode": {
    "name": "ipython",
    "version": 3
   },
   "file_extension": ".py",
   "mimetype": "text/x-python",
   "name": "python",
   "nbconvert_exporter": "python",
   "pygments_lexer": "ipython3",
   "version": "3.12.7"
  }
 },
 "nbformat": 4,
 "nbformat_minor": 5
}
