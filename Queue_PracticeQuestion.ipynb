{
 "cells": [
  {
   "cell_type": "markdown",
   "id": "b3d9609a-a91f-4501-bb7c-9ddd830c9ee7",
   "metadata": {},
   "source": [
    "**QUEUE IMPLEMENTATION BASED ON ARRAY/LIST/LINKED_LIST**"
   ]
  },
  {
   "cell_type": "markdown",
   "id": "56a7290a-b2a3-4667-afa1-e08e4e78d273",
   "metadata": {},
   "source": [
    "**1. QUEUE USING TWO STACKS (ARRAY OR LIST-BASED):**"
   ]
  },
  {
   "cell_type": "markdown",
   "id": "b5626507-39bd-4593-a9bc-9e51e2b653b5",
   "metadata": {},
   "source": [
    "**• Implement a queue using two stacks. The queue should support the following\n",
    "operations:\n",
    "o enqueue(x): Add element x to the queue.\n",
    "o dequeue(): Remove and return the element at the front of the queue.\n",
    "o peek(): Return the front element without removing it.\n",
    "o is_empty(): Check if the queue is empty.\n",
    "• (Hint: You can implement this by using two stacks for enqueue and dequeue\n",
    "operations.)**"
   ]
  },
  {
   "cell_type": "code",
   "execution_count": 1,
   "id": "35485e11-a3a2-4806-8833-c259cc3c7cc3",
   "metadata": {},
   "outputs": [
    {
     "name": "stdout",
     "output_type": "stream",
     "text": [
      "Dequeued: 1\n",
      "Front element: 2\n",
      "Is empty: False\n"
     ]
    }
   ],
   "source": [
    "class QueueUsingStacks:\n",
    "    def __init__(self):\n",
    "        self.stack1 = []  # Main stack for enqueue\n",
    "        self.stack2 = []  # Temporary stack for dequeue\n",
    "\n",
    "    def enqueue(self, x):\n",
    "        self.stack1.append(x)\n",
    "\n",
    "    def dequeue(self):\n",
    "        if not self.stack2:\n",
    "            while self.stack1:\n",
    "                self.stack2.append(self.stack1.pop())\n",
    "        return self.stack2.pop() if self.stack2 else None\n",
    "\n",
    "    def peek(self):\n",
    "        if not self.stack2:\n",
    "            while self.stack1:\n",
    "                self.stack2.append(self.stack1.pop())\n",
    "        return self.stack2[-1] if self.stack2 else None\n",
    "\n",
    "    def is_empty(self):\n",
    "        return not self.stack1 and not self.stack2\n",
    "\n",
    "# Example usage\n",
    "queue = QueueUsingStacks()\n",
    "queue.enqueue(1)\n",
    "queue.enqueue(2)\n",
    "queue.enqueue(3)\n",
    "print(\"Dequeued:\", queue.dequeue())\n",
    "print(\"Front element:\", queue.peek())\n",
    "print(\"Is empty:\", queue.is_empty())"
   ]
  },
  {
   "cell_type": "markdown",
   "id": "4657cdcc-dd21-45bb-b13d-c7f4a2b0ad20",
   "metadata": {},
   "source": [
    "**2 . REVERSE A QUEUE USING RECURSION:**"
   ]
  },
  {
   "cell_type": "markdown",
   "id": "31432a84-fb6b-40fc-9e76-44d9b602b562",
   "metadata": {},
   "source": [
    "**• Implement a queue using a linked list (or array) and write a function to reverse the\n",
    "elements of the queue using recursion. You should only use the basic queue operations\n",
    "like enqueue and dequeue.**"
   ]
  },
  {
   "cell_type": "code",
   "execution_count": 2,
   "id": "664aeb7a-f947-4107-aaaa-e4db32bc71e4",
   "metadata": {},
   "outputs": [
    {
     "name": "stdout",
     "output_type": "stream",
     "text": [
      "Queue: [1, 2, 3, 4]\n",
      "Queue: [4, 3, 2, 1]\n"
     ]
    }
   ],
   "source": [
    "class QueueNode:\n",
    "    def __init__(self, data):\n",
    "        self.data = data\n",
    "        self.next = None\n",
    "\n",
    "class QueueLinkedList:\n",
    "    def __init__(self):\n",
    "        self.front = self.rear = None\n",
    "\n",
    "    def enqueue(self, x):\n",
    "        new_node = QueueNode(x)\n",
    "        if self.rear is None:\n",
    "            self.front = self.rear = new_node\n",
    "            return\n",
    "        self.rear.next = new_node\n",
    "        self.rear = new_node\n",
    "\n",
    "    def dequeue(self):\n",
    "        if self.front is None:\n",
    "            return None\n",
    "        temp = self.front\n",
    "        self.front = self.front.next\n",
    "        if self.front is None:\n",
    "            self.rear = None\n",
    "        return temp.data\n",
    "\n",
    "    def is_empty(self):\n",
    "        return self.front is None\n",
    "\n",
    "    def print_queue(self):\n",
    "        temp = self.front\n",
    "        result = []\n",
    "        while temp:\n",
    "            result.append(temp.data)\n",
    "            temp = temp.next\n",
    "        print(\"Queue:\", result)\n",
    "\n",
    "    def reverse_queue(self):\n",
    "        if self.is_empty():\n",
    "            return\n",
    "        data = self.dequeue()\n",
    "        self.reverse_queue()\n",
    "        self.enqueue(data)\n",
    "\n",
    "# Example usage\n",
    "queue = QueueLinkedList()\n",
    "queue.enqueue(1)\n",
    "queue.enqueue(2)\n",
    "queue.enqueue(3)\n",
    "queue.enqueue(4)\n",
    "queue.print_queue()\n",
    "queue.reverse_queue()\n",
    "queue.print_queue()"
   ]
  },
  {
   "cell_type": "markdown",
   "id": "bf946770-7320-4b3d-94d1-a0dc960d89e1",
   "metadata": {},
   "source": [
    "**3. DESIGN A QUEUE THAT SUPPORTS max() OPERATION:**"
   ]
  },
  {
   "cell_type": "markdown",
   "id": "a89ad7ba-84c8-4493-890f-faef66167fb5",
   "metadata": {},
   "source": [
    "**• Implement a queue using an array or linked list that supports the enqueue(x),\n",
    "dequeue(), and max() operations. The max() operation should return the maximum\n",
    "element in the queue in constant time (O(1)).**"
   ]
  },
  {
   "cell_type": "code",
   "execution_count": 3,
   "id": "97dddb0f-fa1b-4afe-9df5-19eb319cccba",
   "metadata": {},
   "outputs": [
    {
     "name": "stdout",
     "output_type": "stream",
     "text": [
      "Max element: 3\n",
      "Max element after dequeue: 3\n"
     ]
    }
   ],
   "source": [
    "class MaxQueue:\n",
    "    def __init__(self):\n",
    "        self.queue = []\n",
    "        self.max_values = []\n",
    "\n",
    "    def enqueue(self, x):\n",
    "        self.queue.append(x)\n",
    "        while self.max_values and self.max_values[-1] < x:\n",
    "            self.max_values.pop()\n",
    "        self.max_values.append(x)\n",
    "\n",
    "    def dequeue(self):\n",
    "        if not self.queue:\n",
    "            return None\n",
    "        removed = self.queue.pop(0)\n",
    "        if removed == self.max_values[0]:\n",
    "            self.max_values.pop(0)\n",
    "        return removed\n",
    "\n",
    "    def max(self):\n",
    "        return self.max_values[0] if self.max_values else None\n",
    "\n",
    "    def is_empty(self):\n",
    "        return len(self.queue) == 0\n",
    "\n",
    "# Example usage\n",
    "max_queue = MaxQueue()\n",
    "max_queue.enqueue(1)\n",
    "max_queue.enqueue(3)\n",
    "max_queue.enqueue(2)\n",
    "print(\"Max element:\", max_queue.max())\n",
    "max_queue.dequeue()\n",
    "print(\"Max element after dequeue:\", max_queue.max())"
   ]
  },
  {
   "cell_type": "markdown",
   "id": "e6cf0817-715a-467e-9d6a-ca9ffa57afd9",
   "metadata": {},
   "source": [
    "**4. MERGE TWO QUEUES:**"
   ]
  },
  {
   "cell_type": "markdown",
   "id": "c85b4639-4ee6-4652-965a-14ca77d64006",
   "metadata": {},
   "source": [
    "**• Given two queues, merge them into a single queue by alternating elements from each\n",
    "queue. For example, if queue1 = [1, 3, 5] and queue2 = [2, 4, 6], the merged\n",
    "queue should be [1, 2, 3, 4, 5, 6].**"
   ]
  },
  {
   "cell_type": "code",
   "execution_count": 4,
   "id": "fab63ef6-3b10-44d5-bf27-2ccc2bf1516e",
   "metadata": {},
   "outputs": [
    {
     "name": "stdout",
     "output_type": "stream",
     "text": [
      "Merged Queue: [1, 2, 3, 4, 5, 6]\n"
     ]
    }
   ],
   "source": [
    "class MergeQueue:\n",
    "    def merge(self, queue1, queue2):\n",
    "        merged_queue = []\n",
    "        while queue1 or queue2:\n",
    "            if queue1:\n",
    "                merged_queue.append(queue1.pop(0))\n",
    "            if queue2:\n",
    "                merged_queue.append(queue2.pop(0))\n",
    "        return merged_queue\n",
    "\n",
    "# Example usage\n",
    "mq = MergeQueue()\n",
    "q1 = [1, 3, 5]\n",
    "q2 = [2, 4, 6]\n",
    "print(\"Merged Queue:\", mq.merge(q1, q2))"
   ]
  },
  {
   "cell_type": "markdown",
   "id": "49394fb6-0b86-4316-9393-6084deb3b2ba",
   "metadata": {},
   "source": [
    "**5. IMPLEMENT A QUEUE WITH COUNT OF SPECIFIC ELEMENT:**"
   ]
  },
  {
   "cell_type": "markdown",
   "id": "f5609f36-280d-4d66-b9d4-845e6ff1886f",
   "metadata": {},
   "source": [
    "**• Implement a queue using a list (or array) and write a function that returns the count of\n",
    "occurrences of a specific element in the queue. For example, if the queue is [1, 2, 3,\n",
    "2, 2] and the element is 2, the function should return 3.**"
   ]
  },
  {
   "cell_type": "code",
   "execution_count": 5,
   "id": "a386eea9-5346-42cf-8e0e-f8205a4932c0",
   "metadata": {},
   "outputs": [
    {
     "name": "stdout",
     "output_type": "stream",
     "text": [
      "Count of 2: 3\n"
     ]
    }
   ],
   "source": [
    "class CountQueue:\n",
    "    def count_occurrences(self, queue, element):\n",
    "        count = 0\n",
    "        for x in queue:\n",
    "            if x == element:\n",
    "                count += 1\n",
    "        return count\n",
    "\n",
    "# Example usage\n",
    "queue = [1, 2, 3, 2, 2]\n",
    "cq = CountQueue()\n",
    "print(\"Count of 2:\", cq.count_occurrences(queue, 2))"
   ]
  },
  {
   "cell_type": "markdown",
   "id": "982204eb-9c5a-443d-bb97-4ae5de225b27",
   "metadata": {},
   "source": [
    "**6. IMPLEMENT A QUEUE TO REVERSE WORDS IN A SENTENCE:**"
   ]
  },
  {
   "cell_type": "markdown",
   "id": "3fe21440-53a1-457f-876d-697b0c12cde0",
   "metadata": {},
   "source": [
    "**• Write a function that takes a sentence as input, splits the sentence into words, and then\n",
    "uses a queue to reverse the order of the words. For example, for the input \"Hello\n",
    "World\", the output should be \"World Hello\".**"
   ]
  },
  {
   "cell_type": "code",
   "execution_count": 6,
   "id": "d64f5b60-0b42-4e0e-a191-cb06339cda2e",
   "metadata": {},
   "outputs": [
    {
     "name": "stdout",
     "output_type": "stream",
     "text": [
      "Reversed sentence: World Hello\n"
     ]
    }
   ],
   "source": [
    "class ReverseWordsQueue:\n",
    "    def __init__(self):\n",
    "        self.queue = []\n",
    "    \n",
    "    def enqueue(self, word):\n",
    "        self.queue.append(word)\n",
    "    \n",
    "    def dequeue(self):\n",
    "        if self.is_empty():\n",
    "            return None\n",
    "        front = self.queue[0]\n",
    "        self.queue = self.queue[1:]\n",
    "        return front\n",
    "    \n",
    "    def is_empty(self):\n",
    "        return len(self.queue) == 0\n",
    "    \n",
    "    def reverse_words(self, sentence):\n",
    "        word = \"\"\n",
    "        index = 0\n",
    "        while index < len(sentence):\n",
    "            if sentence[index] == \" \":\n",
    "                if word:\n",
    "                    self.enqueue(word)\n",
    "                    word = \"\"\n",
    "            else:\n",
    "                word += sentence[index]\n",
    "            index += 1\n",
    "        if word:\n",
    "            self.enqueue(word)\n",
    "        \n",
    "        reversed_sentence = \"\"\n",
    "        while not self.is_empty():\n",
    "            next_word = self.dequeue()\n",
    "            if reversed_sentence:\n",
    "                reversed_sentence = next_word + \" \" + reversed_sentence\n",
    "            else:\n",
    "                reversed_sentence = next_word\n",
    "        \n",
    "        return reversed_sentence\n",
    "\n",
    "# Example usage\n",
    "rwq = ReverseWordsQueue()\n",
    "print(\"Reversed sentence:\", rwq.reverse_words(\"Hello World\"))"
   ]
  },
  {
   "cell_type": "markdown",
   "id": "d4f30713-082b-40ab-8ed5-0529a3f532c4",
   "metadata": {},
   "source": [
    "**7. IMPLEMENT A QUEUE THAT SUPPORTS CONTAINS(x) OPERATION:**"
   ]
  },
  {
   "cell_type": "markdown",
   "id": "202d0644-896f-47b3-aca0-b3814844897a",
   "metadata": {},
   "source": [
    "**• Implement a queue using a list (or linked list) that supports the enqueue(x),\n",
    "dequeue(), and contains(x) operations. The contains(x) operation should check\n",
    "whether a given element x exists in the queue.**"
   ]
  },
  {
   "cell_type": "code",
   "execution_count": 7,
   "id": "fd873358-830c-437d-b1c0-25bfe52fa9c1",
   "metadata": {},
   "outputs": [
    {
     "name": "stdout",
     "output_type": "stream",
     "text": [
      "Queue contains 2: True\n",
      "Queue contains 5: False\n"
     ]
    }
   ],
   "source": [
    "class ContainsQueue:\n",
    "    def __init__(self):\n",
    "        self.queue = []\n",
    "    \n",
    "    def enqueue(self, value):\n",
    "        self.queue.append(value)\n",
    "    \n",
    "    def dequeue(self):\n",
    "        if self.is_empty():\n",
    "            return None\n",
    "        front = self.queue[0]\n",
    "        self.queue = self.queue[1:]\n",
    "        return front\n",
    "    \n",
    "    def is_empty(self):\n",
    "        return len(self.queue) == 0\n",
    "    \n",
    "    def contains(self, x):\n",
    "        for item in self.queue:\n",
    "            if item == x:\n",
    "                return True\n",
    "        return False\n",
    "\n",
    "# Example usage\n",
    "cq = ContainsQueue()\n",
    "cq.enqueue(1)\n",
    "cq.enqueue(2)\n",
    "cq.enqueue(3)\n",
    "print(\"Queue contains 2:\", cq.contains(2))  # True\n",
    "print(\"Queue contains 5:\", cq.contains(5))  # False"
   ]
  }
 ],
 "metadata": {
  "kernelspec": {
   "display_name": "Python 3 (ipykernel)",
   "language": "python",
   "name": "python3"
  },
  "language_info": {
   "codemirror_mode": {
    "name": "ipython",
    "version": 3
   },
   "file_extension": ".py",
   "mimetype": "text/x-python",
   "name": "python",
   "nbconvert_exporter": "python",
   "pygments_lexer": "ipython3",
   "version": "3.12.7"
  }
 },
 "nbformat": 4,
 "nbformat_minor": 5
}
