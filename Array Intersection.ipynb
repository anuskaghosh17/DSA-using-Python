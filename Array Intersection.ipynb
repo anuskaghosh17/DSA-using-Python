{
 "cells": [
  {
   "cell_type": "code",
   "execution_count": null,
   "id": "ed9ebe1c-1af7-48ee-a9c0-767a50d1c5df",
   "metadata": {},
   "outputs": [],
   "source": [
    "#Given two arrays, write a Python function to find the intersection of both arrays(i.e., common elements).\n",
    "#Hint: Use list and set concept"
   ]
  }
 ],
 "metadata": {
  "kernelspec": {
   "display_name": "Python 3 (ipykernel)",
   "language": "python",
   "name": "python3"
  },
  "language_info": {
   "codemirror_mode": {
    "name": "ipython",
    "version": 3
   },
   "file_extension": ".py",
   "mimetype": "text/x-python",
   "name": "python",
   "nbconvert_exporter": "python",
   "pygments_lexer": "ipython3",
   "version": "3.12.7"
  }
 },
 "nbformat": 4,
 "nbformat_minor": 5
}
